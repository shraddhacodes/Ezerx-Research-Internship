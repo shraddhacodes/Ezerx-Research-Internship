{
 "cells": [
  {
   "cell_type": "code",
   "execution_count": 2,
   "metadata": {
    "_cell_guid": "b1076dfc-b9ad-4769-8c92-a6c4dae69d19",
    "_uuid": "8f2839f25d086af736a60e9eeb907d3b93b6e0e5",
    "execution": {
     "iopub.execute_input": "2022-02-21T14:04:45.878334Z",
     "iopub.status.busy": "2022-02-21T14:04:45.877972Z",
     "iopub.status.idle": "2022-02-21T14:04:45.890222Z",
     "shell.execute_reply": "2022-02-21T14:04:45.889090Z",
     "shell.execute_reply.started": "2022-02-21T14:04:45.878296Z"
    }
   },
   "outputs": [],
   "source": [
    "# This Python 3 environment comes with many helpful analytics libraries installed\n",
    "# It is defined by the kaggle/python Docker image: https://github.com/kaggle/docker-python\n",
    "# For example, here's several helpful packages to load\n",
    "\n",
    "import numpy as np # linear algebra\n",
    "import pandas as pd # data processing, CSV file I/O (e.g. pd.read_csv)\n",
    "\n",
    "# Input data files are available in the read-only \"../input/\" directory\n",
    "# For example, running this (by clicking run or pressing Shift+Enter) will list all files under the input directory\n",
    "\n",
    "import os\n",
    "for dirname, _, filenames in os.walk('/kaggle/input'):\n",
    "    for filename in filenames:\n",
    "        print(os.path.join(dirname, filename))\n",
    "\n",
    "# You can write up to 20GB to the current directory (/kaggle/working/) that gets preserved as output when you create a version using \"Save & Run All\" \n",
    "# You can also write temporary files to /kaggle/temp/, but they won't be saved outside of the current session"
   ]
  },
  {
   "cell_type": "markdown",
   "metadata": {},
   "source": [
    "# Two sample t-test (unpaired or independent t-test)\n",
    "* Assumptions\n",
    "1. Observations in two groups have an approximately normal distribution (Shapiro-Wilks Test)\n",
    "2. Homogeneity of variances (variances are equal between treatment groups) (Levene or Bartlett Test)\n",
    "3. The two groups are sampled independently from each other from the same population\n"
   ]
  },
  {
   "cell_type": "code",
   "execution_count": 8,
   "metadata": {
    "execution": {
     "iopub.execute_input": "2022-02-21T13:56:17.788641Z",
     "iopub.status.busy": "2022-02-21T13:56:17.787964Z",
     "iopub.status.idle": "2022-02-21T13:56:17.794274Z",
     "shell.execute_reply": "2022-02-21T13:56:17.793555Z",
     "shell.execute_reply.started": "2022-02-21T13:56:17.788593Z"
    }
   },
   "outputs": [],
   "source": [
    "import numpy as np\n",
    "import statsmodels.api as sm\n",
    "import pylab as py\n",
    "from scipy.stats import shapiro\n",
    "from numpy.random import seed\n",
    "from numpy.random import randn\n",
    "from scipy.stats import mannwhitneyu"
   ]
  },
  {
   "cell_type": "code",
   "execution_count": 9,
   "metadata": {},
   "outputs": [],
   "source": [
    "import scipy"
   ]
  },
  {
   "cell_type": "code",
   "execution_count": 10,
   "metadata": {
    "execution": {
     "iopub.execute_input": "2022-02-21T13:56:42.134404Z",
     "iopub.status.busy": "2022-02-21T13:56:42.133875Z",
     "iopub.status.idle": "2022-02-21T13:56:42.214402Z",
     "shell.execute_reply": "2022-02-21T13:56:42.213654Z",
     "shell.execute_reply.started": "2022-02-21T13:56:42.134350Z"
    }
   },
   "outputs": [],
   "source": [
    "gen1 = pd.read_excel('Haemoglobin_ga.xlsx')"
   ]
  },
  {
   "cell_type": "code",
   "execution_count": 11,
   "metadata": {
    "execution": {
     "iopub.execute_input": "2022-02-21T13:56:42.866313Z",
     "iopub.status.busy": "2022-02-21T13:56:42.865810Z",
     "iopub.status.idle": "2022-02-21T13:56:42.897178Z",
     "shell.execute_reply": "2022-02-21T13:56:42.896473Z",
     "shell.execute_reply.started": "2022-02-21T13:56:42.866262Z"
    }
   },
   "outputs": [],
   "source": [
    "gen = gen1.dropna()"
   ]
  },
  {
   "cell_type": "code",
   "execution_count": 12,
   "metadata": {
    "execution": {
     "iopub.execute_input": "2022-02-21T13:56:43.462756Z",
     "iopub.status.busy": "2022-02-21T13:56:43.462268Z",
     "iopub.status.idle": "2022-02-21T13:56:43.496099Z",
     "shell.execute_reply": "2022-02-21T13:56:43.495221Z",
     "shell.execute_reply.started": "2022-02-21T13:56:43.462706Z"
    }
   },
   "outputs": [
    {
     "name": "stdout",
     "output_type": "stream",
     "text": [
      "<class 'pandas.core.frame.DataFrame'>\n",
      "Int64Index: 100833 entries, 0 to 101764\n",
      "Columns: 106 entries, RecNo to HB\n",
      "dtypes: float64(102), int64(3), object(1)\n",
      "memory usage: 82.3+ MB\n"
     ]
    }
   ],
   "source": [
    "gen.info()"
   ]
  },
  {
   "cell_type": "code",
   "execution_count": 13,
   "metadata": {
    "execution": {
     "iopub.execute_input": "2022-02-21T13:56:43.955716Z",
     "iopub.status.busy": "2022-02-21T13:56:43.955223Z",
     "iopub.status.idle": "2022-02-21T13:56:44.323768Z",
     "shell.execute_reply": "2022-02-21T13:56:44.322920Z",
     "shell.execute_reply.started": "2022-02-21T13:56:43.955667Z"
    }
   },
   "outputs": [
    {
     "data": {
      "image/png": "[encoded data removed]",
      "text/plain": [
       "<Figure size 432x288 with 1 Axes>"
      ]
     },
     "metadata": {
      "needs_background": "light"
     },
     "output_type": "display_data"
    }
   ],
   "source": [
    "df1= gen[gen['Gender'] == 'Female']\n",
    "sm.qqplot(df1['HB'], line ='45')\n",
    "py.show()"
   ]
  },
  {
   "cell_type": "code",
   "execution_count": 14,
   "metadata": {
    "execution": {
     "iopub.execute_input": "2022-02-21T13:56:44.658060Z",
     "iopub.status.busy": "2022-02-21T13:56:44.657728Z",
     "iopub.status.idle": "2022-02-21T13:56:44.963252Z",
     "shell.execute_reply": "2022-02-21T13:56:44.962253Z",
     "shell.execute_reply.started": "2022-02-21T13:56:44.658026Z"
    }
   },
   "outputs": [
    {
     "data": {
      "image/png": "[encoded data removed]",
      "text/plain": [
       "<Figure size 432x288 with 1 Axes>"
      ]
     },
     "metadata": {
      "needs_background": "light"
     },
     "output_type": "display_data"
    }
   ],
   "source": [
    "df2= gen[gen['Gender'] == 'Male']\n",
    "sm.qqplot(df2['HB'], line ='45')\n",
    "py.show()"
   ]
  },
  {
   "cell_type": "code",
   "execution_count": 15,
   "metadata": {
    "execution": {
     "iopub.execute_input": "2022-02-21T13:56:45.478910Z",
     "iopub.status.busy": "2022-02-21T13:56:45.477873Z",
     "iopub.status.idle": "2022-02-21T13:56:45.494131Z",
     "shell.execute_reply": "2022-02-21T13:56:45.493209Z",
     "shell.execute_reply.started": "2022-02-21T13:56:45.478859Z"
    }
   },
   "outputs": [
    {
     "name": "stderr",
     "output_type": "stream",
     "text": [
      "C:\\Users\\LENOVO\\Anaconda3\\lib\\site-packages\\scipy\\stats\\morestats.py:1660: UserWarning: p-value may not be accurate for N > 5000.\n",
      "  warnings.warn(\"p-value may not be accurate for N > 5000.\")\n"
     ]
    },
    {
     "data": {
      "text/plain": [
       "(0.9116158485412598, 0.0)"
      ]
     },
     "execution_count": 15,
     "metadata": {},
     "output_type": "execute_result"
    }
   ],
   "source": [
    "#perform Shapiro-Wilk test\n",
    "shapiro(df1['HB'])\n",
    "\n"
   ]
  },
  {
   "cell_type": "code",
   "execution_count": 16,
   "metadata": {
    "execution": {
     "iopub.execute_input": "2022-02-21T13:56:46.137853Z",
     "iopub.status.busy": "2022-02-21T13:56:46.136795Z",
     "iopub.status.idle": "2022-02-21T13:56:46.145105Z",
     "shell.execute_reply": "2022-02-21T13:56:46.144305Z",
     "shell.execute_reply.started": "2022-02-21T13:56:46.137802Z"
    }
   },
   "outputs": [
    {
     "data": {
      "text/plain": [
       "(0.9651244282722473, 0.0)"
      ]
     },
     "execution_count": 16,
     "metadata": {},
     "output_type": "execute_result"
    }
   ],
   "source": [
    "shapiro(df2['HB'])\n",
    "#NOT NORMAL"
   ]
  },
  {
   "cell_type": "code",
   "execution_count": 17,
   "metadata": {
    "execution": {
     "iopub.execute_input": "2022-02-21T13:56:47.493398Z",
     "iopub.status.busy": "2022-02-21T13:56:47.492686Z",
     "iopub.status.idle": "2022-02-21T13:56:47.499976Z",
     "shell.execute_reply": "2022-02-21T13:56:47.499272Z",
     "shell.execute_reply.started": "2022-02-21T13:56:47.493360Z"
    }
   },
   "outputs": [
    {
     "data": {
      "text/plain": [
       "10.942088482677232"
      ]
     },
     "execution_count": 17,
     "metadata": {},
     "output_type": "execute_result"
    }
   ],
   "source": [
    "meandf1=np.mean(df1['HB'])\n",
    "meandf1"
   ]
  },
  {
   "cell_type": "code",
   "execution_count": 18,
   "metadata": {
    "execution": {
     "iopub.execute_input": "2022-02-21T13:56:48.122411Z",
     "iopub.status.busy": "2022-02-21T13:56:48.121921Z",
     "iopub.status.idle": "2022-02-21T13:56:48.129221Z",
     "shell.execute_reply": "2022-02-21T13:56:48.128117Z",
     "shell.execute_reply.started": "2022-02-21T13:56:48.122367Z"
    }
   },
   "outputs": [
    {
     "data": {
      "text/plain": [
       "12.591248891811947"
      ]
     },
     "execution_count": 18,
     "metadata": {},
     "output_type": "execute_result"
    }
   ],
   "source": [
    "meandf2=np.mean(df2['HB'])\n",
    "meandf2"
   ]
  },
  {
   "cell_type": "code",
   "execution_count": 19,
   "metadata": {
    "execution": {
     "iopub.execute_input": "2022-02-21T13:56:48.697210Z",
     "iopub.status.busy": "2022-02-21T13:56:48.696415Z",
     "iopub.status.idle": "2022-02-21T13:56:48.703535Z",
     "shell.execute_reply": "2022-02-21T13:56:48.702794Z",
     "shell.execute_reply.started": "2022-02-21T13:56:48.697135Z"
    }
   },
   "outputs": [
    {
     "data": {
      "text/plain": [
       "1.3415925914785247"
      ]
     },
     "execution_count": 19,
     "metadata": {},
     "output_type": "execute_result"
    }
   ],
   "source": [
    "std_dev_df1=np.std(df1['HB'])\n",
    "std_dev_df1\n"
   ]
  },
  {
   "cell_type": "code",
   "execution_count": 20,
   "metadata": {
    "execution": {
     "iopub.execute_input": "2022-02-21T14:10:54.569255Z",
     "iopub.status.busy": "2022-02-21T14:10:54.568709Z",
     "iopub.status.idle": "2022-02-21T14:10:54.576159Z",
     "shell.execute_reply": "2022-02-21T14:10:54.575259Z",
     "shell.execute_reply.started": "2022-02-21T14:10:54.569198Z"
    }
   },
   "outputs": [
    {
     "data": {
      "text/plain": [
       "1.799870681510064"
      ]
     },
     "execution_count": 20,
     "metadata": {},
     "output_type": "execute_result"
    }
   ],
   "source": [
    "var_df1=np.var(df1['HB'])\n",
    "var_df1\n"
   ]
  },
  {
   "cell_type": "code",
   "execution_count": 21,
   "metadata": {
    "execution": {
     "iopub.execute_input": "2022-02-21T13:56:49.573695Z",
     "iopub.status.busy": "2022-02-21T13:56:49.573367Z",
     "iopub.status.idle": "2022-02-21T13:56:49.579999Z",
     "shell.execute_reply": "2022-02-21T13:56:49.579231Z",
     "shell.execute_reply.started": "2022-02-21T13:56:49.573661Z"
    }
   },
   "outputs": [
    {
     "data": {
      "text/plain": [
       "2.04681155249149"
      ]
     },
     "execution_count": 21,
     "metadata": {},
     "output_type": "execute_result"
    }
   ],
   "source": [
    "std_dev_df2=np.std(df2['HB'])\n",
    "std_dev_df2"
   ]
  },
  {
   "cell_type": "code",
   "execution_count": 22,
   "metadata": {
    "execution": {
     "iopub.execute_input": "2022-02-21T14:10:58.481466Z",
     "iopub.status.busy": "2022-02-21T14:10:58.481099Z",
     "iopub.status.idle": "2022-02-21T14:10:58.489107Z",
     "shell.execute_reply": "2022-02-21T14:10:58.488260Z",
     "shell.execute_reply.started": "2022-02-21T14:10:58.481431Z"
    }
   },
   "outputs": [
    {
     "data": {
      "text/plain": [
       "4.189437531412622"
      ]
     },
     "execution_count": 22,
     "metadata": {},
     "output_type": "execute_result"
    }
   ],
   "source": [
    "var_df2=np.var(df2['HB'])\n",
    "var_df2"
   ]
  },
  {
   "cell_type": "code",
   "execution_count": 23,
   "metadata": {
    "execution": {
     "iopub.execute_input": "2022-02-21T13:56:50.293350Z",
     "iopub.status.busy": "2022-02-21T13:56:50.292516Z",
     "iopub.status.idle": "2022-02-21T13:56:50.314649Z",
     "shell.execute_reply": "2022-02-21T13:56:50.313662Z",
     "shell.execute_reply.started": "2022-02-21T13:56:50.293298Z"
    }
   },
   "outputs": [
    {
     "name": "stderr",
     "output_type": "stream",
     "text": [
      "C:\\Users\\LENOVO\\Anaconda3\\lib\\site-packages\\ipykernel_launcher.py:1: SettingWithCopyWarning: \n",
      "A value is trying to be set on a copy of a slice from a DataFrame.\n",
      "Try using .loc[row_indexer,col_indexer] = value instead\n",
      "\n",
      "See the caveats in the documentation: http://pandas.pydata.org/pandas-docs/stable/user_guide/indexing.html#returning-a-view-versus-a-copy\n",
      "  \"\"\"Entry point for launching an IPython kernel.\n"
     ]
    },
    {
     "data": {
      "text/html": [
       "<div>\n",
       "<style scoped>\n",
       "    .dataframe tbody tr th:only-of-type {\n",
       "        vertical-align: middle;\n",
       "    }\n",
       "\n",
       "    .dataframe tbody tr th {\n",
       "        vertical-align: top;\n",
       "    }\n",
       "\n",
       "    .dataframe thead th {\n",
       "        text-align: right;\n",
       "    }\n",
       "</style>\n",
       "<table border=\"1\" class=\"dataframe\">\n",
       "  <thead>\n",
       "    <tr style=\"text-align: right;\">\n",
       "      <th></th>\n",
       "      <th>RecNo</th>\n",
       "      <th>Serial</th>\n",
       "      <th>Hospital ID</th>\n",
       "      <th>Age</th>\n",
       "      <th>Gender</th>\n",
       "      <th>s0</th>\n",
       "      <th>s1</th>\n",
       "      <th>s2</th>\n",
       "      <th>s3</th>\n",
       "      <th>s4</th>\n",
       "      <th>...</th>\n",
       "      <th>s92</th>\n",
       "      <th>s93</th>\n",
       "      <th>s94</th>\n",
       "      <th>s95</th>\n",
       "      <th>s96</th>\n",
       "      <th>s97</th>\n",
       "      <th>s98</th>\n",
       "      <th>s99</th>\n",
       "      <th>HB</th>\n",
       "      <th>zscore</th>\n",
       "    </tr>\n",
       "  </thead>\n",
       "  <tbody>\n",
       "    <tr>\n",
       "      <td>0</td>\n",
       "      <td>1</td>\n",
       "      <td>3790</td>\n",
       "      <td>0</td>\n",
       "      <td>21.0</td>\n",
       "      <td>Female</td>\n",
       "      <td>1.111572</td>\n",
       "      <td>1.089060</td>\n",
       "      <td>1.070785</td>\n",
       "      <td>1.054095</td>\n",
       "      <td>1.038819</td>\n",
       "      <td>...</td>\n",
       "      <td>0.548618</td>\n",
       "      <td>0.546023</td>\n",
       "      <td>0.544359</td>\n",
       "      <td>0.542551</td>\n",
       "      <td>0.537139</td>\n",
       "      <td>0.536306</td>\n",
       "      <td>0.536732</td>\n",
       "      <td>0.537626</td>\n",
       "      <td>10.5</td>\n",
       "      <td>-0.329525</td>\n",
       "    </tr>\n",
       "    <tr>\n",
       "      <td>3</td>\n",
       "      <td>4</td>\n",
       "      <td>3832</td>\n",
       "      <td>0</td>\n",
       "      <td>27.0</td>\n",
       "      <td>Female</td>\n",
       "      <td>0.885337</td>\n",
       "      <td>0.871370</td>\n",
       "      <td>0.855679</td>\n",
       "      <td>0.837118</td>\n",
       "      <td>0.816210</td>\n",
       "      <td>...</td>\n",
       "      <td>0.431123</td>\n",
       "      <td>0.429914</td>\n",
       "      <td>0.428533</td>\n",
       "      <td>0.426977</td>\n",
       "      <td>0.423179</td>\n",
       "      <td>0.422927</td>\n",
       "      <td>0.423201</td>\n",
       "      <td>0.423924</td>\n",
       "      <td>10.0</td>\n",
       "      <td>-0.702217</td>\n",
       "    </tr>\n",
       "    <tr>\n",
       "      <td>5</td>\n",
       "      <td>6</td>\n",
       "      <td>3836</td>\n",
       "      <td>0</td>\n",
       "      <td>21.0</td>\n",
       "      <td>Female</td>\n",
       "      <td>0.921972</td>\n",
       "      <td>0.903810</td>\n",
       "      <td>0.888554</td>\n",
       "      <td>0.871180</td>\n",
       "      <td>0.850961</td>\n",
       "      <td>...</td>\n",
       "      <td>0.410122</td>\n",
       "      <td>0.407479</td>\n",
       "      <td>0.405467</td>\n",
       "      <td>0.403923</td>\n",
       "      <td>0.401074</td>\n",
       "      <td>0.401350</td>\n",
       "      <td>0.402422</td>\n",
       "      <td>0.403270</td>\n",
       "      <td>11.5</td>\n",
       "      <td>0.415858</td>\n",
       "    </tr>\n",
       "    <tr>\n",
       "      <td>6</td>\n",
       "      <td>7</td>\n",
       "      <td>3845</td>\n",
       "      <td>0</td>\n",
       "      <td>30.0</td>\n",
       "      <td>Female</td>\n",
       "      <td>0.882571</td>\n",
       "      <td>0.870492</td>\n",
       "      <td>0.860353</td>\n",
       "      <td>0.846510</td>\n",
       "      <td>0.828638</td>\n",
       "      <td>...</td>\n",
       "      <td>0.459679</td>\n",
       "      <td>0.457726</td>\n",
       "      <td>0.456922</td>\n",
       "      <td>0.456308</td>\n",
       "      <td>0.452211</td>\n",
       "      <td>0.450978</td>\n",
       "      <td>0.449994</td>\n",
       "      <td>0.448957</td>\n",
       "      <td>10.5</td>\n",
       "      <td>-0.329525</td>\n",
       "    </tr>\n",
       "    <tr>\n",
       "      <td>7</td>\n",
       "      <td>8</td>\n",
       "      <td>3848</td>\n",
       "      <td>0</td>\n",
       "      <td>57.0</td>\n",
       "      <td>Female</td>\n",
       "      <td>1.034465</td>\n",
       "      <td>1.019367</td>\n",
       "      <td>1.010268</td>\n",
       "      <td>1.001753</td>\n",
       "      <td>0.991543</td>\n",
       "      <td>...</td>\n",
       "      <td>0.555070</td>\n",
       "      <td>0.553040</td>\n",
       "      <td>0.551716</td>\n",
       "      <td>0.550982</td>\n",
       "      <td>0.546940</td>\n",
       "      <td>0.546353</td>\n",
       "      <td>0.545545</td>\n",
       "      <td>0.545193</td>\n",
       "      <td>12.2</td>\n",
       "      <td>0.937626</td>\n",
       "    </tr>\n",
       "    <tr>\n",
       "      <td>...</td>\n",
       "      <td>...</td>\n",
       "      <td>...</td>\n",
       "      <td>...</td>\n",
       "      <td>...</td>\n",
       "      <td>...</td>\n",
       "      <td>...</td>\n",
       "      <td>...</td>\n",
       "      <td>...</td>\n",
       "      <td>...</td>\n",
       "      <td>...</td>\n",
       "      <td>...</td>\n",
       "      <td>...</td>\n",
       "      <td>...</td>\n",
       "      <td>...</td>\n",
       "      <td>...</td>\n",
       "      <td>...</td>\n",
       "      <td>...</td>\n",
       "      <td>...</td>\n",
       "      <td>...</td>\n",
       "      <td>...</td>\n",
       "      <td>...</td>\n",
       "    </tr>\n",
       "    <tr>\n",
       "      <td>101760</td>\n",
       "      <td>101761</td>\n",
       "      <td>1272</td>\n",
       "      <td>2</td>\n",
       "      <td>60.0</td>\n",
       "      <td>Female</td>\n",
       "      <td>0.944481</td>\n",
       "      <td>0.936851</td>\n",
       "      <td>0.933647</td>\n",
       "      <td>0.924879</td>\n",
       "      <td>0.914422</td>\n",
       "      <td>...</td>\n",
       "      <td>0.505947</td>\n",
       "      <td>0.502221</td>\n",
       "      <td>0.499196</td>\n",
       "      <td>0.495792</td>\n",
       "      <td>0.492888</td>\n",
       "      <td>0.489912</td>\n",
       "      <td>0.487988</td>\n",
       "      <td>0.486480</td>\n",
       "      <td>12.0</td>\n",
       "      <td>0.788549</td>\n",
       "    </tr>\n",
       "    <tr>\n",
       "      <td>101761</td>\n",
       "      <td>101762</td>\n",
       "      <td>1272</td>\n",
       "      <td>2</td>\n",
       "      <td>60.0</td>\n",
       "      <td>Female</td>\n",
       "      <td>0.953750</td>\n",
       "      <td>0.943192</td>\n",
       "      <td>0.938576</td>\n",
       "      <td>0.930557</td>\n",
       "      <td>0.920534</td>\n",
       "      <td>...</td>\n",
       "      <td>0.508857</td>\n",
       "      <td>0.505084</td>\n",
       "      <td>0.503612</td>\n",
       "      <td>0.501019</td>\n",
       "      <td>0.498227</td>\n",
       "      <td>0.494874</td>\n",
       "      <td>0.491237</td>\n",
       "      <td>0.489598</td>\n",
       "      <td>12.0</td>\n",
       "      <td>0.788549</td>\n",
       "    </tr>\n",
       "    <tr>\n",
       "      <td>101762</td>\n",
       "      <td>101763</td>\n",
       "      <td>1272</td>\n",
       "      <td>2</td>\n",
       "      <td>60.0</td>\n",
       "      <td>Female</td>\n",
       "      <td>0.950452</td>\n",
       "      <td>0.941978</td>\n",
       "      <td>0.936802</td>\n",
       "      <td>0.927402</td>\n",
       "      <td>0.917317</td>\n",
       "      <td>...</td>\n",
       "      <td>0.506535</td>\n",
       "      <td>0.502254</td>\n",
       "      <td>0.500789</td>\n",
       "      <td>0.498837</td>\n",
       "      <td>0.496110</td>\n",
       "      <td>0.491385</td>\n",
       "      <td>0.488431</td>\n",
       "      <td>0.487415</td>\n",
       "      <td>12.0</td>\n",
       "      <td>0.788549</td>\n",
       "    </tr>\n",
       "    <tr>\n",
       "      <td>101763</td>\n",
       "      <td>101764</td>\n",
       "      <td>1272</td>\n",
       "      <td>2</td>\n",
       "      <td>60.0</td>\n",
       "      <td>Female</td>\n",
       "      <td>0.955741</td>\n",
       "      <td>0.946137</td>\n",
       "      <td>0.941490</td>\n",
       "      <td>0.932453</td>\n",
       "      <td>0.921778</td>\n",
       "      <td>...</td>\n",
       "      <td>0.511350</td>\n",
       "      <td>0.507332</td>\n",
       "      <td>0.504680</td>\n",
       "      <td>0.502769</td>\n",
       "      <td>0.500643</td>\n",
       "      <td>0.497776</td>\n",
       "      <td>0.492578</td>\n",
       "      <td>0.489961</td>\n",
       "      <td>12.0</td>\n",
       "      <td>0.788549</td>\n",
       "    </tr>\n",
       "    <tr>\n",
       "      <td>101764</td>\n",
       "      <td>101765</td>\n",
       "      <td>1272</td>\n",
       "      <td>2</td>\n",
       "      <td>60.0</td>\n",
       "      <td>Female</td>\n",
       "      <td>0.944227</td>\n",
       "      <td>0.934036</td>\n",
       "      <td>0.928997</td>\n",
       "      <td>0.919935</td>\n",
       "      <td>0.910448</td>\n",
       "      <td>...</td>\n",
       "      <td>0.502450</td>\n",
       "      <td>0.497549</td>\n",
       "      <td>0.495236</td>\n",
       "      <td>0.492834</td>\n",
       "      <td>0.490676</td>\n",
       "      <td>0.487559</td>\n",
       "      <td>0.484320</td>\n",
       "      <td>0.481806</td>\n",
       "      <td>12.0</td>\n",
       "      <td>0.788549</td>\n",
       "    </tr>\n",
       "  </tbody>\n",
       "</table>\n",
       "<p>65866 rows × 107 columns</p>\n",
       "</div>"
      ],
      "text/plain": [
       "         RecNo  Serial  Hospital ID   Age  Gender        s0        s1  \\\n",
       "0            1    3790            0  21.0  Female  1.111572  1.089060   \n",
       "3            4    3832            0  27.0  Female  0.885337  0.871370   \n",
       "5            6    3836            0  21.0  Female  0.921972  0.903810   \n",
       "6            7    3845            0  30.0  Female  0.882571  0.870492   \n",
       "7            8    3848            0  57.0  Female  1.034465  1.019367   \n",
       "...        ...     ...          ...   ...     ...       ...       ...   \n",
       "101760  101761    1272            2  60.0  Female  0.944481  0.936851   \n",
       "101761  101762    1272            2  60.0  Female  0.953750  0.943192   \n",
       "101762  101763    1272            2  60.0  Female  0.950452  0.941978   \n",
       "101763  101764    1272            2  60.0  Female  0.955741  0.946137   \n",
       "101764  101765    1272            2  60.0  Female  0.944227  0.934036   \n",
       "\n",
       "              s2        s3        s4  ...       s92       s93       s94  \\\n",
       "0       1.070785  1.054095  1.038819  ...  0.548618  0.546023  0.544359   \n",
       "3       0.855679  0.837118  0.816210  ...  0.431123  0.429914  0.428533   \n",
       "5       0.888554  0.871180  0.850961  ...  0.410122  0.407479  0.405467   \n",
       "6       0.860353  0.846510  0.828638  ...  0.459679  0.457726  0.456922   \n",
       "7       1.010268  1.001753  0.991543  ...  0.555070  0.553040  0.551716   \n",
       "...          ...       ...       ...  ...       ...       ...       ...   \n",
       "101760  0.933647  0.924879  0.914422  ...  0.505947  0.502221  0.499196   \n",
       "101761  0.938576  0.930557  0.920534  ...  0.508857  0.505084  0.503612   \n",
       "101762  0.936802  0.927402  0.917317  ...  0.506535  0.502254  0.500789   \n",
       "101763  0.941490  0.932453  0.921778  ...  0.511350  0.507332  0.504680   \n",
       "101764  0.928997  0.919935  0.910448  ...  0.502450  0.497549  0.495236   \n",
       "\n",
       "             s95       s96       s97       s98       s99    HB    zscore  \n",
       "0       0.542551  0.537139  0.536306  0.536732  0.537626  10.5 -0.329525  \n",
       "3       0.426977  0.423179  0.422927  0.423201  0.423924  10.0 -0.702217  \n",
       "5       0.403923  0.401074  0.401350  0.402422  0.403270  11.5  0.415858  \n",
       "6       0.456308  0.452211  0.450978  0.449994  0.448957  10.5 -0.329525  \n",
       "7       0.550982  0.546940  0.546353  0.545545  0.545193  12.2  0.937626  \n",
       "...          ...       ...       ...       ...       ...   ...       ...  \n",
       "101760  0.495792  0.492888  0.489912  0.487988  0.486480  12.0  0.788549  \n",
       "101761  0.501019  0.498227  0.494874  0.491237  0.489598  12.0  0.788549  \n",
       "101762  0.498837  0.496110  0.491385  0.488431  0.487415  12.0  0.788549  \n",
       "101763  0.502769  0.500643  0.497776  0.492578  0.489961  12.0  0.788549  \n",
       "101764  0.492834  0.490676  0.487559  0.484320  0.481806  12.0  0.788549  \n",
       "\n",
       "[65866 rows x 107 columns]"
      ]
     },
     "execution_count": 23,
     "metadata": {},
     "output_type": "execute_result"
    }
   ],
   "source": [
    "df1['zscore']=(df1['HB']-meandf1)/(std_dev_df1)\n",
    "df1"
   ]
  },
  {
   "cell_type": "code",
   "execution_count": 24,
   "metadata": {
    "execution": {
     "iopub.execute_input": "2022-02-21T13:56:51.455782Z",
     "iopub.status.busy": "2022-02-21T13:56:51.455462Z",
     "iopub.status.idle": "2022-02-21T13:56:51.751842Z",
     "shell.execute_reply": "2022-02-21T13:56:51.750977Z",
     "shell.execute_reply.started": "2022-02-21T13:56:51.455751Z"
    }
   },
   "outputs": [
    {
     "data": {
      "image/png": "[encoded data removed]",
      "text/plain": [
       "<Figure size 432x288 with 1 Axes>"
      ]
     },
     "metadata": {
      "needs_background": "light"
     },
     "output_type": "display_data"
    }
   ],
   "source": [
    "sm.qqplot(df1['zscore'], line ='45')\n",
    "py.show()"
   ]
  },
  {
   "cell_type": "code",
   "execution_count": 25,
   "metadata": {
    "execution": {
     "iopub.execute_input": "2022-02-21T13:56:52.422646Z",
     "iopub.status.busy": "2022-02-21T13:56:52.422336Z",
     "iopub.status.idle": "2022-02-21T13:56:52.440762Z",
     "shell.execute_reply": "2022-02-21T13:56:52.439887Z",
     "shell.execute_reply.started": "2022-02-21T13:56:52.422612Z"
    }
   },
   "outputs": [
    {
     "name": "stderr",
     "output_type": "stream",
     "text": [
      "C:\\Users\\LENOVO\\Anaconda3\\lib\\site-packages\\ipykernel_launcher.py:1: SettingWithCopyWarning: \n",
      "A value is trying to be set on a copy of a slice from a DataFrame.\n",
      "Try using .loc[row_indexer,col_indexer] = value instead\n",
      "\n",
      "See the caveats in the documentation: http://pandas.pydata.org/pandas-docs/stable/user_guide/indexing.html#returning-a-view-versus-a-copy\n",
      "  \"\"\"Entry point for launching an IPython kernel.\n"
     ]
    },
    {
     "data": {
      "text/html": [
       "<div>\n",
       "<style scoped>\n",
       "    .dataframe tbody tr th:only-of-type {\n",
       "        vertical-align: middle;\n",
       "    }\n",
       "\n",
       "    .dataframe tbody tr th {\n",
       "        vertical-align: top;\n",
       "    }\n",
       "\n",
       "    .dataframe thead th {\n",
       "        text-align: right;\n",
       "    }\n",
       "</style>\n",
       "<table border=\"1\" class=\"dataframe\">\n",
       "  <thead>\n",
       "    <tr style=\"text-align: right;\">\n",
       "      <th></th>\n",
       "      <th>RecNo</th>\n",
       "      <th>Serial</th>\n",
       "      <th>Hospital ID</th>\n",
       "      <th>Age</th>\n",
       "      <th>Gender</th>\n",
       "      <th>s0</th>\n",
       "      <th>s1</th>\n",
       "      <th>s2</th>\n",
       "      <th>s3</th>\n",
       "      <th>s4</th>\n",
       "      <th>...</th>\n",
       "      <th>s92</th>\n",
       "      <th>s93</th>\n",
       "      <th>s94</th>\n",
       "      <th>s95</th>\n",
       "      <th>s96</th>\n",
       "      <th>s97</th>\n",
       "      <th>s98</th>\n",
       "      <th>s99</th>\n",
       "      <th>HB</th>\n",
       "      <th>zscore</th>\n",
       "    </tr>\n",
       "  </thead>\n",
       "  <tbody>\n",
       "    <tr>\n",
       "      <td>1</td>\n",
       "      <td>2</td>\n",
       "      <td>3801</td>\n",
       "      <td>0</td>\n",
       "      <td>28.0</td>\n",
       "      <td>Male</td>\n",
       "      <td>1.094853</td>\n",
       "      <td>1.077337</td>\n",
       "      <td>1.063737</td>\n",
       "      <td>1.050125</td>\n",
       "      <td>1.036282</td>\n",
       "      <td>...</td>\n",
       "      <td>0.580230</td>\n",
       "      <td>0.577882</td>\n",
       "      <td>0.576050</td>\n",
       "      <td>0.574224</td>\n",
       "      <td>0.569061</td>\n",
       "      <td>0.569617</td>\n",
       "      <td>0.571440</td>\n",
       "      <td>0.572906</td>\n",
       "      <td>13.0</td>\n",
       "      <td>0.199701</td>\n",
       "    </tr>\n",
       "    <tr>\n",
       "      <td>2</td>\n",
       "      <td>3</td>\n",
       "      <td>3803</td>\n",
       "      <td>0</td>\n",
       "      <td>27.0</td>\n",
       "      <td>Male</td>\n",
       "      <td>0.926640</td>\n",
       "      <td>0.911944</td>\n",
       "      <td>0.899565</td>\n",
       "      <td>0.887503</td>\n",
       "      <td>0.872969</td>\n",
       "      <td>...</td>\n",
       "      <td>0.483731</td>\n",
       "      <td>0.482222</td>\n",
       "      <td>0.481263</td>\n",
       "      <td>0.479601</td>\n",
       "      <td>0.475846</td>\n",
       "      <td>0.476002</td>\n",
       "      <td>0.476918</td>\n",
       "      <td>0.477353</td>\n",
       "      <td>13.3</td>\n",
       "      <td>0.346271</td>\n",
       "    </tr>\n",
       "    <tr>\n",
       "      <td>4</td>\n",
       "      <td>5</td>\n",
       "      <td>3833</td>\n",
       "      <td>0</td>\n",
       "      <td>21.0</td>\n",
       "      <td>Male</td>\n",
       "      <td>0.997230</td>\n",
       "      <td>0.980019</td>\n",
       "      <td>0.967419</td>\n",
       "      <td>0.954938</td>\n",
       "      <td>0.940028</td>\n",
       "      <td>...</td>\n",
       "      <td>0.537118</td>\n",
       "      <td>0.534293</td>\n",
       "      <td>0.531999</td>\n",
       "      <td>0.530141</td>\n",
       "      <td>0.525994</td>\n",
       "      <td>0.526979</td>\n",
       "      <td>0.528911</td>\n",
       "      <td>0.530336</td>\n",
       "      <td>10.5</td>\n",
       "      <td>-1.021711</td>\n",
       "    </tr>\n",
       "    <tr>\n",
       "      <td>8</td>\n",
       "      <td>9</td>\n",
       "      <td>3849</td>\n",
       "      <td>0</td>\n",
       "      <td>60.0</td>\n",
       "      <td>Male</td>\n",
       "      <td>1.097985</td>\n",
       "      <td>1.085715</td>\n",
       "      <td>1.077696</td>\n",
       "      <td>1.069294</td>\n",
       "      <td>1.059790</td>\n",
       "      <td>...</td>\n",
       "      <td>0.628197</td>\n",
       "      <td>0.623932</td>\n",
       "      <td>0.620924</td>\n",
       "      <td>0.619052</td>\n",
       "      <td>0.613255</td>\n",
       "      <td>0.611342</td>\n",
       "      <td>0.609801</td>\n",
       "      <td>0.608618</td>\n",
       "      <td>13.8</td>\n",
       "      <td>0.590553</td>\n",
       "    </tr>\n",
       "    <tr>\n",
       "      <td>9</td>\n",
       "      <td>10</td>\n",
       "      <td>3853</td>\n",
       "      <td>0</td>\n",
       "      <td>46.0</td>\n",
       "      <td>Male</td>\n",
       "      <td>1.003752</td>\n",
       "      <td>0.993955</td>\n",
       "      <td>0.986518</td>\n",
       "      <td>0.978454</td>\n",
       "      <td>0.967773</td>\n",
       "      <td>...</td>\n",
       "      <td>0.541920</td>\n",
       "      <td>0.539246</td>\n",
       "      <td>0.537857</td>\n",
       "      <td>0.537582</td>\n",
       "      <td>0.533521</td>\n",
       "      <td>0.532441</td>\n",
       "      <td>0.530999</td>\n",
       "      <td>0.529837</td>\n",
       "      <td>11.0</td>\n",
       "      <td>-0.777428</td>\n",
       "    </tr>\n",
       "    <tr>\n",
       "      <td>...</td>\n",
       "      <td>...</td>\n",
       "      <td>...</td>\n",
       "      <td>...</td>\n",
       "      <td>...</td>\n",
       "      <td>...</td>\n",
       "      <td>...</td>\n",
       "      <td>...</td>\n",
       "      <td>...</td>\n",
       "      <td>...</td>\n",
       "      <td>...</td>\n",
       "      <td>...</td>\n",
       "      <td>...</td>\n",
       "      <td>...</td>\n",
       "      <td>...</td>\n",
       "      <td>...</td>\n",
       "      <td>...</td>\n",
       "      <td>...</td>\n",
       "      <td>...</td>\n",
       "      <td>...</td>\n",
       "      <td>...</td>\n",
       "      <td>...</td>\n",
       "    </tr>\n",
       "    <tr>\n",
       "      <td>101566</td>\n",
       "      <td>101567</td>\n",
       "      <td>1269</td>\n",
       "      <td>2</td>\n",
       "      <td>41.0</td>\n",
       "      <td>Male</td>\n",
       "      <td>0.990950</td>\n",
       "      <td>0.977950</td>\n",
       "      <td>0.968376</td>\n",
       "      <td>0.952068</td>\n",
       "      <td>0.934988</td>\n",
       "      <td>...</td>\n",
       "      <td>0.523791</td>\n",
       "      <td>0.521678</td>\n",
       "      <td>0.517329</td>\n",
       "      <td>0.515743</td>\n",
       "      <td>0.513228</td>\n",
       "      <td>0.510497</td>\n",
       "      <td>0.505381</td>\n",
       "      <td>0.501767</td>\n",
       "      <td>7.7</td>\n",
       "      <td>-2.389692</td>\n",
       "    </tr>\n",
       "    <tr>\n",
       "      <td>101567</td>\n",
       "      <td>101568</td>\n",
       "      <td>1269</td>\n",
       "      <td>2</td>\n",
       "      <td>41.0</td>\n",
       "      <td>Male</td>\n",
       "      <td>0.985895</td>\n",
       "      <td>0.974806</td>\n",
       "      <td>0.963180</td>\n",
       "      <td>0.946035</td>\n",
       "      <td>0.929421</td>\n",
       "      <td>...</td>\n",
       "      <td>0.521680</td>\n",
       "      <td>0.518733</td>\n",
       "      <td>0.514049</td>\n",
       "      <td>0.511949</td>\n",
       "      <td>0.511027</td>\n",
       "      <td>0.508147</td>\n",
       "      <td>0.503681</td>\n",
       "      <td>0.500785</td>\n",
       "      <td>7.7</td>\n",
       "      <td>-2.389692</td>\n",
       "    </tr>\n",
       "    <tr>\n",
       "      <td>101568</td>\n",
       "      <td>101569</td>\n",
       "      <td>1269</td>\n",
       "      <td>2</td>\n",
       "      <td>41.0</td>\n",
       "      <td>Male</td>\n",
       "      <td>0.990487</td>\n",
       "      <td>0.978743</td>\n",
       "      <td>0.967760</td>\n",
       "      <td>0.950995</td>\n",
       "      <td>0.933786</td>\n",
       "      <td>...</td>\n",
       "      <td>0.521240</td>\n",
       "      <td>0.518258</td>\n",
       "      <td>0.513616</td>\n",
       "      <td>0.511237</td>\n",
       "      <td>0.509565</td>\n",
       "      <td>0.506544</td>\n",
       "      <td>0.502743</td>\n",
       "      <td>0.499357</td>\n",
       "      <td>7.7</td>\n",
       "      <td>-2.389692</td>\n",
       "    </tr>\n",
       "    <tr>\n",
       "      <td>101569</td>\n",
       "      <td>101570</td>\n",
       "      <td>1269</td>\n",
       "      <td>2</td>\n",
       "      <td>41.0</td>\n",
       "      <td>Male</td>\n",
       "      <td>0.983855</td>\n",
       "      <td>0.974546</td>\n",
       "      <td>0.965173</td>\n",
       "      <td>0.948756</td>\n",
       "      <td>0.931447</td>\n",
       "      <td>...</td>\n",
       "      <td>0.519058</td>\n",
       "      <td>0.515267</td>\n",
       "      <td>0.509142</td>\n",
       "      <td>0.506721</td>\n",
       "      <td>0.506643</td>\n",
       "      <td>0.505212</td>\n",
       "      <td>0.502001</td>\n",
       "      <td>0.498367</td>\n",
       "      <td>7.7</td>\n",
       "      <td>-2.389692</td>\n",
       "    </tr>\n",
       "    <tr>\n",
       "      <td>101570</td>\n",
       "      <td>101571</td>\n",
       "      <td>1269</td>\n",
       "      <td>2</td>\n",
       "      <td>41.0</td>\n",
       "      <td>Male</td>\n",
       "      <td>0.991615</td>\n",
       "      <td>0.979869</td>\n",
       "      <td>0.969227</td>\n",
       "      <td>0.953851</td>\n",
       "      <td>0.937276</td>\n",
       "      <td>...</td>\n",
       "      <td>0.523139</td>\n",
       "      <td>0.520864</td>\n",
       "      <td>0.515983</td>\n",
       "      <td>0.513276</td>\n",
       "      <td>0.512101</td>\n",
       "      <td>0.510141</td>\n",
       "      <td>0.507534</td>\n",
       "      <td>0.505415</td>\n",
       "      <td>7.7</td>\n",
       "      <td>-2.389692</td>\n",
       "    </tr>\n",
       "  </tbody>\n",
       "</table>\n",
       "<p>34967 rows × 107 columns</p>\n",
       "</div>"
      ],
      "text/plain": [
       "         RecNo  Serial  Hospital ID   Age Gender        s0        s1  \\\n",
       "1            2    3801            0  28.0   Male  1.094853  1.077337   \n",
       "2            3    3803            0  27.0   Male  0.926640  0.911944   \n",
       "4            5    3833            0  21.0   Male  0.997230  0.980019   \n",
       "8            9    3849            0  60.0   Male  1.097985  1.085715   \n",
       "9           10    3853            0  46.0   Male  1.003752  0.993955   \n",
       "...        ...     ...          ...   ...    ...       ...       ...   \n",
       "101566  101567    1269            2  41.0   Male  0.990950  0.977950   \n",
       "101567  101568    1269            2  41.0   Male  0.985895  0.974806   \n",
       "101568  101569    1269            2  41.0   Male  0.990487  0.978743   \n",
       "101569  101570    1269            2  41.0   Male  0.983855  0.974546   \n",
       "101570  101571    1269            2  41.0   Male  0.991615  0.979869   \n",
       "\n",
       "              s2        s3        s4  ...       s92       s93       s94  \\\n",
       "1       1.063737  1.050125  1.036282  ...  0.580230  0.577882  0.576050   \n",
       "2       0.899565  0.887503  0.872969  ...  0.483731  0.482222  0.481263   \n",
       "4       0.967419  0.954938  0.940028  ...  0.537118  0.534293  0.531999   \n",
       "8       1.077696  1.069294  1.059790  ...  0.628197  0.623932  0.620924   \n",
       "9       0.986518  0.978454  0.967773  ...  0.541920  0.539246  0.537857   \n",
       "...          ...       ...       ...  ...       ...       ...       ...   \n",
       "101566  0.968376  0.952068  0.934988  ...  0.523791  0.521678  0.517329   \n",
       "101567  0.963180  0.946035  0.929421  ...  0.521680  0.518733  0.514049   \n",
       "101568  0.967760  0.950995  0.933786  ...  0.521240  0.518258  0.513616   \n",
       "101569  0.965173  0.948756  0.931447  ...  0.519058  0.515267  0.509142   \n",
       "101570  0.969227  0.953851  0.937276  ...  0.523139  0.520864  0.515983   \n",
       "\n",
       "             s95       s96       s97       s98       s99    HB    zscore  \n",
       "1       0.574224  0.569061  0.569617  0.571440  0.572906  13.0  0.199701  \n",
       "2       0.479601  0.475846  0.476002  0.476918  0.477353  13.3  0.346271  \n",
       "4       0.530141  0.525994  0.526979  0.528911  0.530336  10.5 -1.021711  \n",
       "8       0.619052  0.613255  0.611342  0.609801  0.608618  13.8  0.590553  \n",
       "9       0.537582  0.533521  0.532441  0.530999  0.529837  11.0 -0.777428  \n",
       "...          ...       ...       ...       ...       ...   ...       ...  \n",
       "101566  0.515743  0.513228  0.510497  0.505381  0.501767   7.7 -2.389692  \n",
       "101567  0.511949  0.511027  0.508147  0.503681  0.500785   7.7 -2.389692  \n",
       "101568  0.511237  0.509565  0.506544  0.502743  0.499357   7.7 -2.389692  \n",
       "101569  0.506721  0.506643  0.505212  0.502001  0.498367   7.7 -2.389692  \n",
       "101570  0.513276  0.512101  0.510141  0.507534  0.505415   7.7 -2.389692  \n",
       "\n",
       "[34967 rows x 107 columns]"
      ]
     },
     "execution_count": 25,
     "metadata": {},
     "output_type": "execute_result"
    }
   ],
   "source": [
    "df2['zscore']=(df2['HB']-meandf2)/(std_dev_df2)\n",
    "df2"
   ]
  },
  {
   "cell_type": "code",
   "execution_count": 26,
   "metadata": {
    "execution": {
     "iopub.execute_input": "2022-02-21T14:02:25.435751Z",
     "iopub.status.busy": "2022-02-21T14:02:25.435386Z",
     "iopub.status.idle": "2022-02-21T14:02:25.707944Z",
     "shell.execute_reply": "2022-02-21T14:02:25.707120Z",
     "shell.execute_reply.started": "2022-02-21T14:02:25.435718Z"
    }
   },
   "outputs": [
    {
     "data": {
      "image/png": "[encoded data removed]",
      "text/plain": [
       "<Figure size 432x288 with 1 Axes>"
      ]
     },
     "metadata": {
      "needs_background": "light"
     },
     "output_type": "display_data"
    }
   ],
   "source": [
    "sm.qqplot(df2['zscore'], line ='45')\n",
    "py.show()"
   ]
  },
  {
   "cell_type": "code",
   "execution_count": 27,
   "metadata": {
    "execution": {
     "iopub.execute_input": "2022-02-21T14:02:26.527003Z",
     "iopub.status.busy": "2022-02-21T14:02:26.526125Z",
     "iopub.status.idle": "2022-02-21T14:02:26.546753Z",
     "shell.execute_reply": "2022-02-21T14:02:26.545850Z",
     "shell.execute_reply.started": "2022-02-21T14:02:26.526946Z"
    }
   },
   "outputs": [
    {
     "name": "stdout",
     "output_type": "stream",
     "text": [
      "<class 'pandas.core.frame.DataFrame'>\n",
      "Int64Index: 65866 entries, 0 to 101764\n",
      "Columns: 107 entries, RecNo to zscore\n",
      "dtypes: float64(103), int64(3), object(1)\n",
      "memory usage: 54.3+ MB\n"
     ]
    }
   ],
   "source": [
    "df1.info()"
   ]
  },
  {
   "cell_type": "code",
   "execution_count": 28,
   "metadata": {
    "execution": {
     "iopub.execute_input": "2022-02-21T14:02:27.248556Z",
     "iopub.status.busy": "2022-02-21T14:02:27.247772Z",
     "iopub.status.idle": "2022-02-21T14:02:27.344076Z",
     "shell.execute_reply": "2022-02-21T14:02:27.343164Z",
     "shell.execute_reply.started": "2022-02-21T14:02:27.248514Z"
    }
   },
   "outputs": [
    {
     "name": "stdout",
     "output_type": "stream",
     "text": [
      "Statistics=503853729.000, p=0.000\n"
     ]
    }
   ],
   "source": [
    "stat, p = mannwhitneyu(df1['HB'], df2['HB'])\n",
    "print('Statistics=%.3f, p=%.3f' % (stat, p))\n",
    "#Reject H0 both are not from same sampling distn"
   ]
  },
  {
   "cell_type": "markdown",
   "metadata": {},
   "source": [
    "# F test\n"
   ]
  },
  {
   "cell_type": "code",
   "execution_count": 23,
   "metadata": {
    "execution": {
     "iopub.execute_input": "2022-02-21T14:03:51.420741Z",
     "iopub.status.busy": "2022-02-21T14:03:51.419788Z",
     "iopub.status.idle": "2022-02-21T14:03:51.424431Z",
     "shell.execute_reply": "2022-02-21T14:03:51.423802Z",
     "shell.execute_reply.started": "2022-02-21T14:03:51.420687Z"
    }
   },
   "outputs": [],
   "source": [
    "x = df1['HB']\n",
    "y = df2['HB']"
   ]
  },
  {
   "cell_type": "code",
   "execution_count": 24,
   "metadata": {
    "execution": {
     "iopub.execute_input": "2022-02-21T14:21:25.426419Z",
     "iopub.status.busy": "2022-02-21T14:21:25.425566Z",
     "iopub.status.idle": "2022-02-21T14:21:25.432559Z",
     "shell.execute_reply": "2022-02-21T14:21:25.432003Z",
     "shell.execute_reply.started": "2022-02-21T14:21:25.426376Z"
    }
   },
   "outputs": [
    {
     "data": {
      "text/plain": [
       "array([10.5, 10. , 11.5, ..., 12. , 12. , 12. ])"
      ]
     },
     "execution_count": 24,
     "metadata": {},
     "output_type": "execute_result"
    }
   ],
   "source": [
    "x = np.array(x)\n",
    "x\n"
   ]
  },
  {
   "cell_type": "code",
   "execution_count": 25,
   "metadata": {
    "execution": {
     "iopub.execute_input": "2022-02-21T14:21:28.472103Z",
     "iopub.status.busy": "2022-02-21T14:21:28.471820Z",
     "iopub.status.idle": "2022-02-21T14:21:28.479007Z",
     "shell.execute_reply": "2022-02-21T14:21:28.477947Z",
     "shell.execute_reply.started": "2022-02-21T14:21:28.472073Z"
    }
   },
   "outputs": [
    {
     "data": {
      "text/plain": [
       "array([13. , 13.3, 10.5, ...,  7.7,  7.7,  7.7])"
      ]
     },
     "execution_count": 25,
     "metadata": {},
     "output_type": "execute_result"
    }
   ],
   "source": [
    "y=np.array(y)\n",
    "y"
   ]
  },
  {
   "cell_type": "code",
   "execution_count": 26,
   "metadata": {
    "execution": {
     "iopub.execute_input": "2022-02-21T14:11:03.621595Z",
     "iopub.status.busy": "2022-02-21T14:11:03.621261Z",
     "iopub.status.idle": "2022-02-21T14:11:03.628330Z",
     "shell.execute_reply": "2022-02-21T14:11:03.627478Z",
     "shell.execute_reply.started": "2022-02-21T14:11:03.621548Z"
    }
   },
   "outputs": [
    {
     "data": {
      "text/plain": [
       "0.42962108111519487"
      ]
     },
     "execution_count": 26,
     "metadata": {},
     "output_type": "execute_result"
    }
   ],
   "source": [
    "F = var_df1 / var_df2\n",
    "F"
   ]
  },
  {
   "cell_type": "code",
   "execution_count": 38,
   "metadata": {
    "execution": {
     "iopub.execute_input": "2022-02-21T14:21:40.087710Z",
     "iopub.status.busy": "2022-02-21T14:21:40.087117Z",
     "iopub.status.idle": "2022-02-21T14:21:40.093882Z",
     "shell.execute_reply": "2022-02-21T14:21:40.093258Z",
     "shell.execute_reply.started": "2022-02-21T14:21:40.087652Z"
    }
   },
   "outputs": [],
   "source": [
    "#define F-test function\n",
    "def f_test(x, y):\n",
    "    f = np.var(x, ddof=1)/np.var(y, ddof=1) #calculate F test statistic \n",
    "    dfn = x.size-1 #define degrees of freedom numerator \n",
    "    dfd = y.size-1 #define degrees of freedom denominator \n",
    "    p = 1-scipy.stats.f.cdf(f, dfn, dfd) #find p-value of F test statistic \n",
    "    return f, p"
   ]
  },
  {
   "cell_type": "code",
   "execution_count": 39,
   "metadata": {
    "execution": {
     "iopub.execute_input": "2022-02-21T14:32:25.830752Z",
     "iopub.status.busy": "2022-02-21T14:32:25.830054Z",
     "iopub.status.idle": "2022-02-21T14:32:25.920016Z",
     "shell.execute_reply": "2022-02-21T14:32:25.918474Z",
     "shell.execute_reply.started": "2022-02-21T14:32:25.830683Z"
    }
   },
   "outputs": [
    {
     "data": {
      "text/plain": [
       "(0.4296153172085103, 1.0)"
      ]
     },
     "execution_count": 39,
     "metadata": {},
     "output_type": "execute_result"
    }
   ],
   "source": [
    "#perform F-test\n",
    "f_test(x, y)"
   ]
  },
  {
   "cell_type": "markdown",
   "metadata": {},
   "source": [
    "# T test"
   ]
  },
  {
   "cell_type": "code",
   "execution_count": 41,
   "metadata": {
    "execution": {
     "iopub.execute_input": "2022-02-21T14:32:23.286676Z",
     "iopub.status.busy": "2022-02-21T14:32:23.283274Z",
     "iopub.status.idle": "2022-02-21T14:32:23.304232Z",
     "shell.execute_reply": "2022-02-21T14:32:23.302619Z",
     "shell.execute_reply.started": "2022-02-21T14:32:23.286560Z"
    }
   },
   "outputs": [
    {
     "name": "stdout",
     "output_type": "stream",
     "text": [
      "Test statistic is -153.730767\n",
      "p-value for two tailed test is 0.000000\n",
      "Reject\n"
     ]
    }
   ],
   "source": [
    "from scipy import stats\n",
    "\n",
    "t_value,p_value=stats.ttest_ind(x,y)\n",
    "\n",
    "print('Test statistic is %f'%float(\"{:.6f}\".format(t_value)))\n",
    "\n",
    "print('p-value for two tailed test is %f'%p_value)\n",
    "\n",
    "alpha = 0.05\n",
    "\n",
    "if p_value<=alpha:\n",
    "\n",
    "    print('Reject')\n",
    "\n",
    "else:\n",
    "\n",
    "    print('Accept')"
   ]
  },
  {
   "cell_type": "code",
   "execution_count": null,
   "metadata": {},
   "outputs": [],
   "source": []
  }
 ],
 "metadata": {
  "kernelspec": {
   "display_name": "Python 3",
   "language": "python",
   "name": "python3"
  },
  "language_info": {
   "codemirror_mode": {
    "name": "ipython",
    "version": 3
   },
   "file_extension": ".py",
   "mimetype": "text/x-python",
   "name": "python",
   "nbconvert_exporter": "python",
   "pygments_lexer": "ipython3",
   "version": "3.7.4"
  }
 },
 "nbformat": 4,
 "nbformat_minor": 4
}

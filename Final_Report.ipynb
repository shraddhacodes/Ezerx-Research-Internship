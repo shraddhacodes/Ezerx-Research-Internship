{
 "cells": [
  {
   "cell_type": "markdown",
   "id": "bright-selling",
   "metadata": {},
   "source": [
    "### Loading the packages"
   ]
  },
  {
   "cell_type": "code",
   "execution_count": 1,
   "id": "japanese-yugoslavia",
   "metadata": {},
   "outputs": [],
   "source": [
    "import pandas as pd\n",
    "import numpy as np\n",
    "import matplotlib.pyplot as plt\n",
    "%matplotlib inline\n",
    "import seaborn as sns"
   ]
  },
  {
   "cell_type": "markdown",
   "id": "christian-encounter",
   "metadata": {},
   "source": [
    "Red blood cells absorb light. So when haemoglobin levels are high, red blood cell count or number of red blood cells produced is high. Which means that when haemoglobin is high, as number of red blood cells are high, most of the light will be absorbed and less will be reflected. Therefore, haemoglobin level and level of reflection are inversely related. That is when haemoglobin level is high, level of reflection is low and vice versa."
   ]
  },
  {
   "cell_type": "markdown",
   "id": "urban-recipe",
   "metadata": {},
   "source": [
    "### Loading the data"
   ]
  },
  {
   "cell_type": "code",
   "execution_count": 2,
   "id": "cognitive-stock",
   "metadata": {},
   "outputs": [
    {
     "data": {
      "text/html": [
       "<div>\n",
       "<style scoped>\n",
       "    .dataframe tbody tr th:only-of-type {\n",
       "        vertical-align: middle;\n",
       "    }\n",
       "\n",
       "    .dataframe tbody tr th {\n",
       "        vertical-align: top;\n",
       "    }\n",
       "\n",
       "    .dataframe thead th {\n",
       "        text-align: right;\n",
       "    }\n",
       "</style>\n",
       "<table border=\"1\" class=\"dataframe\">\n",
       "  <thead>\n",
       "    <tr style=\"text-align: right;\">\n",
       "      <th></th>\n",
       "      <th>RecNo</th>\n",
       "      <th>Serial</th>\n",
       "      <th>Hospital ID</th>\n",
       "      <th>Age</th>\n",
       "      <th>Gender</th>\n",
       "      <th>s0</th>\n",
       "      <th>s1</th>\n",
       "      <th>s2</th>\n",
       "      <th>s3</th>\n",
       "      <th>s4</th>\n",
       "      <th>...</th>\n",
       "      <th>s91</th>\n",
       "      <th>s92</th>\n",
       "      <th>s93</th>\n",
       "      <th>s94</th>\n",
       "      <th>s95</th>\n",
       "      <th>s96</th>\n",
       "      <th>s97</th>\n",
       "      <th>s98</th>\n",
       "      <th>s99</th>\n",
       "      <th>HB</th>\n",
       "    </tr>\n",
       "  </thead>\n",
       "  <tbody>\n",
       "    <tr>\n",
       "      <th>0</th>\n",
       "      <td>1</td>\n",
       "      <td>3790</td>\n",
       "      <td>0</td>\n",
       "      <td>21.0</td>\n",
       "      <td>Female</td>\n",
       "      <td>1.111572</td>\n",
       "      <td>1.089060</td>\n",
       "      <td>1.070785</td>\n",
       "      <td>1.054095</td>\n",
       "      <td>1.038819</td>\n",
       "      <td>...</td>\n",
       "      <td>0.550573</td>\n",
       "      <td>0.548618</td>\n",
       "      <td>0.546023</td>\n",
       "      <td>0.544359</td>\n",
       "      <td>0.542551</td>\n",
       "      <td>0.537139</td>\n",
       "      <td>0.536306</td>\n",
       "      <td>0.536732</td>\n",
       "      <td>0.537626</td>\n",
       "      <td>10.5</td>\n",
       "    </tr>\n",
       "    <tr>\n",
       "      <th>1</th>\n",
       "      <td>2</td>\n",
       "      <td>3801</td>\n",
       "      <td>0</td>\n",
       "      <td>28.0</td>\n",
       "      <td>Male</td>\n",
       "      <td>1.094853</td>\n",
       "      <td>1.077337</td>\n",
       "      <td>1.063737</td>\n",
       "      <td>1.050125</td>\n",
       "      <td>1.036282</td>\n",
       "      <td>...</td>\n",
       "      <td>0.581667</td>\n",
       "      <td>0.580230</td>\n",
       "      <td>0.577882</td>\n",
       "      <td>0.576050</td>\n",
       "      <td>0.574224</td>\n",
       "      <td>0.569061</td>\n",
       "      <td>0.569617</td>\n",
       "      <td>0.571440</td>\n",
       "      <td>0.572906</td>\n",
       "      <td>13.0</td>\n",
       "    </tr>\n",
       "    <tr>\n",
       "      <th>2</th>\n",
       "      <td>3</td>\n",
       "      <td>3803</td>\n",
       "      <td>0</td>\n",
       "      <td>27.0</td>\n",
       "      <td>Male</td>\n",
       "      <td>0.926640</td>\n",
       "      <td>0.911944</td>\n",
       "      <td>0.899565</td>\n",
       "      <td>0.887503</td>\n",
       "      <td>0.872969</td>\n",
       "      <td>...</td>\n",
       "      <td>0.484327</td>\n",
       "      <td>0.483731</td>\n",
       "      <td>0.482222</td>\n",
       "      <td>0.481263</td>\n",
       "      <td>0.479601</td>\n",
       "      <td>0.475846</td>\n",
       "      <td>0.476002</td>\n",
       "      <td>0.476918</td>\n",
       "      <td>0.477353</td>\n",
       "      <td>13.3</td>\n",
       "    </tr>\n",
       "    <tr>\n",
       "      <th>3</th>\n",
       "      <td>4</td>\n",
       "      <td>3832</td>\n",
       "      <td>0</td>\n",
       "      <td>27.0</td>\n",
       "      <td>Female</td>\n",
       "      <td>0.885337</td>\n",
       "      <td>0.871370</td>\n",
       "      <td>0.855679</td>\n",
       "      <td>0.837118</td>\n",
       "      <td>0.816210</td>\n",
       "      <td>...</td>\n",
       "      <td>0.431343</td>\n",
       "      <td>0.431123</td>\n",
       "      <td>0.429914</td>\n",
       "      <td>0.428533</td>\n",
       "      <td>0.426977</td>\n",
       "      <td>0.423179</td>\n",
       "      <td>0.422927</td>\n",
       "      <td>0.423201</td>\n",
       "      <td>0.423924</td>\n",
       "      <td>10.0</td>\n",
       "    </tr>\n",
       "    <tr>\n",
       "      <th>4</th>\n",
       "      <td>5</td>\n",
       "      <td>3833</td>\n",
       "      <td>0</td>\n",
       "      <td>21.0</td>\n",
       "      <td>Male</td>\n",
       "      <td>0.997230</td>\n",
       "      <td>0.980019</td>\n",
       "      <td>0.967419</td>\n",
       "      <td>0.954938</td>\n",
       "      <td>0.940028</td>\n",
       "      <td>...</td>\n",
       "      <td>0.538744</td>\n",
       "      <td>0.537118</td>\n",
       "      <td>0.534293</td>\n",
       "      <td>0.531999</td>\n",
       "      <td>0.530141</td>\n",
       "      <td>0.525994</td>\n",
       "      <td>0.526979</td>\n",
       "      <td>0.528911</td>\n",
       "      <td>0.530336</td>\n",
       "      <td>10.5</td>\n",
       "    </tr>\n",
       "  </tbody>\n",
       "</table>\n",
       "<p>5 rows × 106 columns</p>\n",
       "</div>"
      ],
      "text/plain": [
       "   RecNo  Serial  Hospital ID   Age  Gender        s0        s1        s2  \\\n",
       "0      1    3790            0  21.0  Female  1.111572  1.089060  1.070785   \n",
       "1      2    3801            0  28.0    Male  1.094853  1.077337  1.063737   \n",
       "2      3    3803            0  27.0    Male  0.926640  0.911944  0.899565   \n",
       "3      4    3832            0  27.0  Female  0.885337  0.871370  0.855679   \n",
       "4      5    3833            0  21.0    Male  0.997230  0.980019  0.967419   \n",
       "\n",
       "         s3        s4  ...       s91       s92       s93       s94       s95  \\\n",
       "0  1.054095  1.038819  ...  0.550573  0.548618  0.546023  0.544359  0.542551   \n",
       "1  1.050125  1.036282  ...  0.581667  0.580230  0.577882  0.576050  0.574224   \n",
       "2  0.887503  0.872969  ...  0.484327  0.483731  0.482222  0.481263  0.479601   \n",
       "3  0.837118  0.816210  ...  0.431343  0.431123  0.429914  0.428533  0.426977   \n",
       "4  0.954938  0.940028  ...  0.538744  0.537118  0.534293  0.531999  0.530141   \n",
       "\n",
       "        s96       s97       s98       s99    HB  \n",
       "0  0.537139  0.536306  0.536732  0.537626  10.5  \n",
       "1  0.569061  0.569617  0.571440  0.572906  13.0  \n",
       "2  0.475846  0.476002  0.476918  0.477353  13.3  \n",
       "3  0.423179  0.422927  0.423201  0.423924  10.0  \n",
       "4  0.525994  0.526979  0.528911  0.530336  10.5  \n",
       "\n",
       "[5 rows x 106 columns]"
      ]
     },
     "execution_count": 2,
     "metadata": {},
     "output_type": "execute_result"
    }
   ],
   "source": [
    "df_new = pd.read_excel(\"Haemoglobin_ga.xlsx\")\n",
    "df_new.head()"
   ]
  },
  {
   "cell_type": "code",
   "execution_count": 3,
   "id": "baking-credits",
   "metadata": {
    "scrolled": true
   },
   "outputs": [
    {
     "name": "stdout",
     "output_type": "stream",
     "text": [
      "<class 'pandas.core.frame.DataFrame'>\n",
      "RangeIndex: 101765 entries, 0 to 101764\n",
      "Columns: 106 entries, RecNo to HB\n",
      "dtypes: float64(102), int64(3), object(1)\n",
      "memory usage: 82.3+ MB\n"
     ]
    }
   ],
   "source": [
    "df_new.info()"
   ]
  },
  {
   "cell_type": "code",
   "execution_count": 4,
   "id": "sunset-kazakhstan",
   "metadata": {},
   "outputs": [
    {
     "data": {
      "text/plain": [
       "2455"
      ]
     },
     "execution_count": 4,
     "metadata": {},
     "output_type": "execute_result"
    }
   ],
   "source": [
    "df_new.describe()\n",
    "df_new['Serial'].nunique()"
   ]
  },
  {
   "cell_type": "code",
   "execution_count": 5,
   "id": "weird-fabric",
   "metadata": {},
   "outputs": [],
   "source": [
    "df_1 = df_new.drop(['Hospital ID','RecNo'],axis = 1)"
   ]
  },
  {
   "cell_type": "code",
   "execution_count": 6,
   "id": "painted-entry",
   "metadata": {},
   "outputs": [],
   "source": [
    "with_ga = df_1.dropna()"
   ]
  },
  {
   "cell_type": "code",
   "execution_count": 7,
   "id": "electronic-candy",
   "metadata": {},
   "outputs": [],
   "source": [
    "wo_ga = df_1.drop(['Age','Gender'],axis = 1)"
   ]
  },
  {
   "cell_type": "code",
   "execution_count": 8,
   "id": "environmental-rachel",
   "metadata": {},
   "outputs": [
    {
     "data": {
      "text/plain": [
       "array(['s0', 's1', 's2', 's3', 's4', 's5', 's6', 's7', 's8', 's9', 's10',\n",
       "       's11', 's12', 's13', 's14', 's15', 's16', 's17', 's18', 's19',\n",
       "       's20', 's21', 's22', 's23', 's24', 's25', 's26', 's27', 's28',\n",
       "       's29', 's30', 's31', 's32', 's33', 's34', 's35', 's36', 's37',\n",
       "       's38', 's39', 's40', 's41', 's42', 's43', 's44', 's45', 's46',\n",
       "       's47', 's48', 's49', 's50', 's51', 's52', 's53', 's54', 's55',\n",
       "       's56', 's57', 's58', 's59', 's60', 's61', 's62', 's63', 's64',\n",
       "       's65', 's66', 's67', 's68', 's69', 's70', 's71', 's72', 's73',\n",
       "       's74', 's75', 's76', 's77', 's78', 's79', 's80', 's81', 's82',\n",
       "       's83', 's84', 's85', 's86', 's87', 's88', 's89', 's90', 's91',\n",
       "       's92', 's93', 's94', 's95', 's96', 's97', 's98', 's99'],\n",
       "      dtype=object)"
      ]
     },
     "execution_count": 8,
     "metadata": {},
     "output_type": "execute_result"
    }
   ],
   "source": [
    "wo_ga_x = wo_ga.drop(['HB','Serial'], axis = 1)\n",
    "cols = wo_ga_x.columns.values\n",
    "cols"
   ]
  },
  {
   "cell_type": "markdown",
   "id": "loose-bottle",
   "metadata": {},
   "source": [
    "### Exploratory Data Analysis"
   ]
  },
  {
   "cell_type": "code",
   "execution_count": 9,
   "id": "opposed-landing",
   "metadata": {},
   "outputs": [
    {
     "data": {
      "application/vnd.jupyter.widget-view+json": {
       "model_id": "5d3d51e82ae744fb84cac4a38b033dc4",
       "version_major": 2,
       "version_minor": 0
      },
      "text/plain": [
       "interactive(children=(Dropdown(description='col', options=('s0', 's1', 's2', 's3', 's4', 's5', 's6', 's7', 's8…"
      ]
     },
     "metadata": {},
     "output_type": "display_data"
    },
    {
     "data": {
      "text/plain": [
       "<function __main__.scatter(col)>"
      ]
     },
     "execution_count": 9,
     "metadata": {},
     "output_type": "execute_result"
    }
   ],
   "source": [
    "from ipywidgets import widgets\n",
    "def scatter(col):\n",
    "    plt.figure()\n",
    "    sns.scatterplot(wo_ga[col] , wo_ga['HB'])\n",
    "    plt.title(\"Scatterplot of \" + str(col) + \" VS Actual HB\")\n",
    "    plt.show()\n",
    "widgets.interact(scatter , col = list(cols))"
   ]
  },
  {
   "cell_type": "code",
   "execution_count": 10,
   "id": "existing-paper",
   "metadata": {
    "scrolled": true
   },
   "outputs": [
    {
     "data": {
      "image/png": "[encoded data removed]",
      "text/plain": [
       "<Figure size 1440x1440 with 1 Axes>"
      ]
     },
     "metadata": {
      "needs_background": "light"
     },
     "output_type": "display_data"
    }
   ],
   "source": [
    "plt.figure(figsize = (20,20))\n",
    "wo_ga_x.boxplot()\n",
    "plt.xticks(rotation = 90)\n",
    "plt.show()"
   ]
  },
  {
   "cell_type": "markdown",
   "id": "neutral-classic",
   "metadata": {},
   "source": [
    "### Pre-Model Building "
   ]
  },
  {
   "cell_type": "code",
   "execution_count": 11,
   "id": "signal-prescription",
   "metadata": {},
   "outputs": [],
   "source": [
    "from sklearn import metrics\n",
    "\n",
    "from sklearn.linear_model import LinearRegression\n",
    "\n",
    "from sklearn.metrics import r2_score"
   ]
  },
  {
   "cell_type": "code",
   "execution_count": 12,
   "id": "quarterly-january",
   "metadata": {},
   "outputs": [],
   "source": [
    "X = wo_ga.drop(['HB','Serial'],axis = 1)\n",
    "y = wo_ga['HB']"
   ]
  },
  {
   "cell_type": "markdown",
   "id": "confirmed-natural",
   "metadata": {},
   "source": [
    "#### Scaling the variables"
   ]
  },
  {
   "cell_type": "code",
   "execution_count": 13,
   "id": "czech-musical",
   "metadata": {},
   "outputs": [],
   "source": [
    "from sklearn.preprocessing import StandardScaler\n",
    "sc = StandardScaler()\n",
    "scale_x = sc.fit_transform(X)"
   ]
  },
  {
   "cell_type": "markdown",
   "id": "serious-guidance",
   "metadata": {},
   "source": [
    "#### Execution time of linear model  before pca"
   ]
  },
  {
   "cell_type": "code",
   "execution_count": 48,
   "id": "electric-milwaukee",
   "metadata": {},
   "outputs": [
    {
     "name": "stdout",
     "output_type": "stream",
     "text": [
      "3.0441579818725586\n"
     ]
    }
   ],
   "source": [
    "import time\n",
    "start = time.time()\n",
    "LinearRegression().fit(scale_x,y)\n",
    "end = time.time()\n",
    "print(end - start)"
   ]
  },
  {
   "cell_type": "markdown",
   "id": "naval-bottle",
   "metadata": {},
   "source": [
    "### Principal Component Analysis"
   ]
  },
  {
   "cell_type": "code",
   "execution_count": 14,
   "id": "impaired-answer",
   "metadata": {},
   "outputs": [],
   "source": [
    "from sklearn.decomposition import PCA\n",
    "\n",
    "pca=PCA(n_components=10)\n",
    "pca_x = pca.fit_transform(scale_x)\n",
    "pca_df = pd.DataFrame(pca_x , columns = ['PC1','PC2','PC3','PC4','PC5','PC6','PC7','PC8','PC9','PC10'])\n",
    "pca_df['HB'] = y"
   ]
  },
  {
   "cell_type": "code",
   "execution_count": 15,
   "id": "double-accident",
   "metadata": {},
   "outputs": [
    {
     "data": {
      "image/png": "[encoded data removed]",
      "text/plain": [
       "<Figure size 432x288 with 1 Axes>"
      ]
     },
     "metadata": {
      "needs_background": "light"
     },
     "output_type": "display_data"
    }
   ],
   "source": [
    "PC_values = np.arange(pca.n_components_) + 1\n",
    "plt.plot(PC_values, pca.explained_variance_ratio_, 'o-', linewidth=2, color='blue')\n",
    "plt.title('Scree Plot')\n",
    "plt.xlabel('Principal Component')\n",
    "plt.ylabel('Variance Explained')\n",
    "plt.show()"
   ]
  },
  {
   "cell_type": "code",
   "execution_count": 16,
   "id": "changing-friendly",
   "metadata": {},
   "outputs": [
    {
     "data": {
      "text/plain": [
       "array([8.94793847e-01, 5.33063190e-02, 2.95813790e-02, 1.69395556e-02,\n",
       "       2.84953664e-03, 1.17211604e-03, 5.63789507e-04, 2.76114341e-04,\n",
       "       1.52979914e-04, 9.71114443e-05])"
      ]
     },
     "execution_count": 16,
     "metadata": {},
     "output_type": "execute_result"
    }
   ],
   "source": [
    "pca.explained_variance_ratio_"
   ]
  },
  {
   "cell_type": "code",
   "execution_count": 17,
   "id": "quarterly-testing",
   "metadata": {},
   "outputs": [
    {
     "data": {
      "text/plain": [
       "0.9997327480279207"
      ]
     },
     "execution_count": 17,
     "metadata": {},
     "output_type": "execute_result"
    }
   ],
   "source": [
    "sum(pca.explained_variance_ratio_)"
   ]
  },
  {
   "cell_type": "markdown",
   "id": "central-clear",
   "metadata": {},
   "source": [
    "### Linear Regression"
   ]
  },
  {
   "cell_type": "code",
   "execution_count": 18,
   "id": "competitive-wagon",
   "metadata": {},
   "outputs": [],
   "source": [
    "x = pca_df.drop('HB',axis = 1)\n",
    "Y = pca_df['HB']\n",
    "from sklearn.model_selection import train_test_split\n",
    "X_train,X_test,y_train,y_test = train_test_split(x,Y,test_size = 0.2 , random_state = 0)"
   ]
  },
  {
   "cell_type": "code",
   "execution_count": 19,
   "id": "secure-figure",
   "metadata": {},
   "outputs": [
    {
     "data": {
      "text/plain": [
       "0.13258111042388443"
      ]
     },
     "execution_count": 19,
     "metadata": {},
     "output_type": "execute_result"
    }
   ],
   "source": [
    "from sklearn.model_selection import cross_val_score\n",
    "lr = LinearRegression()\n",
    "cv_score_lr = cross_val_score(lr,x,Y, cv=5, scoring = 'r2')\n",
    "max(cv_score_lr)"
   ]
  },
  {
   "cell_type": "markdown",
   "id": "copyrighted-flash",
   "metadata": {},
   "source": [
    "#### Execution time by linear model on the PCA data"
   ]
  },
  {
   "cell_type": "code",
   "execution_count": 50,
   "id": "mysterious-punch",
   "metadata": {},
   "outputs": [
    {
     "name": "stdout",
     "output_type": "stream",
     "text": [
      "0.10607433319091797\n"
     ]
    }
   ],
   "source": [
    "import time\n",
    "start = time.time()\n",
    "lr.fit(X_train,y_train)\n",
    "end = time.time()\n",
    "print(end - start)"
   ]
  },
  {
   "cell_type": "markdown",
   "id": "painful-domestic",
   "metadata": {},
   "source": [
    "#### Model Accuracy"
   ]
  },
  {
   "cell_type": "code",
   "execution_count": 52,
   "id": "professional-discharge",
   "metadata": {},
   "outputs": [
    {
     "name": "stdout",
     "output_type": "stream",
     "text": [
      "R square is 0.1420938701857576\n",
      "Adjusted R-square is 0.14167212889689007\n"
     ]
    }
   ],
   "source": [
    "score_lr = lr.score(X_test,y_test)\n",
    "print(\"R square is \"  + str(score_lr))\n",
    "radj_lr1 = 1 - (1-lr.score(X_test, y_test))*(len(y_test)-1)/(len(y_test)-X_test.shape[1]-1)\n",
    "print('Adjusted R-square is ' +  str(radj_lr1))"
   ]
  },
  {
   "cell_type": "markdown",
   "id": "animal-welding",
   "metadata": {},
   "source": [
    "#### Model Summary"
   ]
  },
  {
   "cell_type": "code",
   "execution_count": 21,
   "id": "noble-treatment",
   "metadata": {},
   "outputs": [
    {
     "name": "stdout",
     "output_type": "stream",
     "text": [
      "Linear Regression Intercept:11.513340251684076\n",
      "Linear Regresssion Coefficient:[ 0.02270351  0.18364551 -0.14241392 -0.28298097 -0.16258919  0.11720671\n",
      "  0.10013541  0.75884054  0.14675408 -0.96938036]\n"
     ]
    }
   ],
   "source": [
    "print('Linear Regression Intercept:' + str(lr.intercept_))\n",
    "print('Linear Regresssion Coefficient:' + str(lr.coef_))"
   ]
  },
  {
   "cell_type": "markdown",
   "id": "korean-meter",
   "metadata": {},
   "source": [
    "### Random Forest"
   ]
  },
  {
   "cell_type": "code",
   "execution_count": 23,
   "id": "quality-paintball",
   "metadata": {},
   "outputs": [
    {
     "data": {
      "text/plain": [
       "0.9507597347172214"
      ]
     },
     "execution_count": 23,
     "metadata": {},
     "output_type": "execute_result"
    }
   ],
   "source": [
    "from sklearn.ensemble import RandomForestRegressor\n",
    "rf = RandomForestRegressor(n_estimators = 100, random_state = 0)\n",
    "cv_score_rf = cross_val_score(rf,X_train,y_train, cv=5, scoring = 'r2')\n",
    "max(cv_score_rf)"
   ]
  },
  {
   "cell_type": "markdown",
   "id": "optical-fishing",
   "metadata": {},
   "source": [
    "#### Model Accuracy"
   ]
  },
  {
   "cell_type": "code",
   "execution_count": 24,
   "id": "listed-supply",
   "metadata": {},
   "outputs": [
    {
     "name": "stdout",
     "output_type": "stream",
     "text": [
      "R square is 0.956971504629653\n",
      "Adjusted R-square is 0.9569503520903893\n"
     ]
    }
   ],
   "source": [
    "rf.fit(X_train,y_train)\n",
    "score_rf = rf.score(X_test,y_test)\n",
    "print(\"R square is \"  + str(score_rf))\n",
    "radj_rf1 = 1 - (1-rf.score(X_test, y_test))*(len(y_test)-1)/(len(y_test)-X_test.shape[1]-1)\n",
    "print('Adjusted R-square is ' +  str(radj_rf1))"
   ]
  },
  {
   "cell_type": "markdown",
   "id": "informational-stomach",
   "metadata": {},
   "source": [
    "### Support Vector Machine"
   ]
  },
  {
   "cell_type": "code",
   "execution_count": 25,
   "id": "vulnerable-richmond",
   "metadata": {},
   "outputs": [
    {
     "name": "stdout",
     "output_type": "stream",
     "text": [
      "0.22649981163353783\n"
     ]
    }
   ],
   "source": [
    "#SVM\n",
    "from sklearn.svm import SVR\n",
    "regressor = SVR(kernel = 'rbf')\n",
    "regressor.fit(X_train, y_train)\n",
    "score_svr = regressor.score(X_test,y_test)\n",
    "print(score_svr)"
   ]
  },
  {
   "cell_type": "markdown",
   "id": "tender-detail",
   "metadata": {},
   "source": [
    "### XGBoost"
   ]
  },
  {
   "cell_type": "code",
   "execution_count": 43,
   "id": "fifteen-vietnamese",
   "metadata": {},
   "outputs": [],
   "source": [
    "#XGBoost\n",
    "from xgboost import XGBRegressor\n",
    "RegModel=XGBRegressor(max_depth=3, learning_rate=0.1, n_estimators=500, objective='reg:squarederror', booster='gbtree')\n",
    "RegModel.fit(X_train,y_train)\n",
    "score_xgb = RegModel.score(X_test,y_test)"
   ]
  },
  {
   "cell_type": "code",
   "execution_count": 44,
   "id": "agricultural-aspect",
   "metadata": {},
   "outputs": [
    {
     "data": {
      "text/plain": [
       "0.5151674249218674"
      ]
     },
     "execution_count": 44,
     "metadata": {},
     "output_type": "execute_result"
    }
   ],
   "source": [
    "score_xgb"
   ]
  },
  {
   "cell_type": "markdown",
   "id": "faced-evening",
   "metadata": {},
   "source": [
    "## Model with age as a continuous variable and gender as a binary variable"
   ]
  },
  {
   "cell_type": "code",
   "execution_count": 26,
   "id": "lovely-necklace",
   "metadata": {},
   "outputs": [],
   "source": [
    "with_ga.describe()\n",
    "ga = pd.get_dummies(with_ga)"
   ]
  },
  {
   "cell_type": "code",
   "execution_count": 27,
   "id": "alike-advisory",
   "metadata": {},
   "outputs": [
    {
     "data": {
      "text/html": [
       "<div>\n",
       "<style scoped>\n",
       "    .dataframe tbody tr th:only-of-type {\n",
       "        vertical-align: middle;\n",
       "    }\n",
       "\n",
       "    .dataframe tbody tr th {\n",
       "        vertical-align: top;\n",
       "    }\n",
       "\n",
       "    .dataframe thead th {\n",
       "        text-align: right;\n",
       "    }\n",
       "</style>\n",
       "<table border=\"1\" class=\"dataframe\">\n",
       "  <thead>\n",
       "    <tr style=\"text-align: right;\">\n",
       "      <th></th>\n",
       "      <th>Serial</th>\n",
       "      <th>Age</th>\n",
       "      <th>s0</th>\n",
       "      <th>s1</th>\n",
       "      <th>s2</th>\n",
       "      <th>s3</th>\n",
       "      <th>s4</th>\n",
       "      <th>s5</th>\n",
       "      <th>s6</th>\n",
       "      <th>s7</th>\n",
       "      <th>...</th>\n",
       "      <th>s93</th>\n",
       "      <th>s94</th>\n",
       "      <th>s95</th>\n",
       "      <th>s96</th>\n",
       "      <th>s97</th>\n",
       "      <th>s98</th>\n",
       "      <th>s99</th>\n",
       "      <th>HB</th>\n",
       "      <th>Gender_Female</th>\n",
       "      <th>Gender_Male</th>\n",
       "    </tr>\n",
       "  </thead>\n",
       "  <tbody>\n",
       "    <tr>\n",
       "      <th>0</th>\n",
       "      <td>3790</td>\n",
       "      <td>21.0</td>\n",
       "      <td>1.111572</td>\n",
       "      <td>1.089060</td>\n",
       "      <td>1.070785</td>\n",
       "      <td>1.054095</td>\n",
       "      <td>1.038819</td>\n",
       "      <td>1.022716</td>\n",
       "      <td>1.010897</td>\n",
       "      <td>0.997921</td>\n",
       "      <td>...</td>\n",
       "      <td>0.546023</td>\n",
       "      <td>0.544359</td>\n",
       "      <td>0.542551</td>\n",
       "      <td>0.537139</td>\n",
       "      <td>0.536306</td>\n",
       "      <td>0.536732</td>\n",
       "      <td>0.537626</td>\n",
       "      <td>10.5</td>\n",
       "      <td>1</td>\n",
       "      <td>0</td>\n",
       "    </tr>\n",
       "    <tr>\n",
       "      <th>1</th>\n",
       "      <td>3801</td>\n",
       "      <td>28.0</td>\n",
       "      <td>1.094853</td>\n",
       "      <td>1.077337</td>\n",
       "      <td>1.063737</td>\n",
       "      <td>1.050125</td>\n",
       "      <td>1.036282</td>\n",
       "      <td>1.021623</td>\n",
       "      <td>1.011224</td>\n",
       "      <td>0.999654</td>\n",
       "      <td>...</td>\n",
       "      <td>0.577882</td>\n",
       "      <td>0.576050</td>\n",
       "      <td>0.574224</td>\n",
       "      <td>0.569061</td>\n",
       "      <td>0.569617</td>\n",
       "      <td>0.571440</td>\n",
       "      <td>0.572906</td>\n",
       "      <td>13.0</td>\n",
       "      <td>0</td>\n",
       "      <td>1</td>\n",
       "    </tr>\n",
       "    <tr>\n",
       "      <th>2</th>\n",
       "      <td>3803</td>\n",
       "      <td>27.0</td>\n",
       "      <td>0.926640</td>\n",
       "      <td>0.911944</td>\n",
       "      <td>0.899565</td>\n",
       "      <td>0.887503</td>\n",
       "      <td>0.872969</td>\n",
       "      <td>0.857463</td>\n",
       "      <td>0.846463</td>\n",
       "      <td>0.835331</td>\n",
       "      <td>...</td>\n",
       "      <td>0.482222</td>\n",
       "      <td>0.481263</td>\n",
       "      <td>0.479601</td>\n",
       "      <td>0.475846</td>\n",
       "      <td>0.476002</td>\n",
       "      <td>0.476918</td>\n",
       "      <td>0.477353</td>\n",
       "      <td>13.3</td>\n",
       "      <td>0</td>\n",
       "      <td>1</td>\n",
       "    </tr>\n",
       "    <tr>\n",
       "      <th>3</th>\n",
       "      <td>3832</td>\n",
       "      <td>27.0</td>\n",
       "      <td>0.885337</td>\n",
       "      <td>0.871370</td>\n",
       "      <td>0.855679</td>\n",
       "      <td>0.837118</td>\n",
       "      <td>0.816210</td>\n",
       "      <td>0.794550</td>\n",
       "      <td>0.778399</td>\n",
       "      <td>0.763338</td>\n",
       "      <td>...</td>\n",
       "      <td>0.429914</td>\n",
       "      <td>0.428533</td>\n",
       "      <td>0.426977</td>\n",
       "      <td>0.423179</td>\n",
       "      <td>0.422927</td>\n",
       "      <td>0.423201</td>\n",
       "      <td>0.423924</td>\n",
       "      <td>10.0</td>\n",
       "      <td>1</td>\n",
       "      <td>0</td>\n",
       "    </tr>\n",
       "    <tr>\n",
       "      <th>4</th>\n",
       "      <td>3833</td>\n",
       "      <td>21.0</td>\n",
       "      <td>0.997230</td>\n",
       "      <td>0.980019</td>\n",
       "      <td>0.967419</td>\n",
       "      <td>0.954938</td>\n",
       "      <td>0.940028</td>\n",
       "      <td>0.922851</td>\n",
       "      <td>0.910277</td>\n",
       "      <td>0.897755</td>\n",
       "      <td>...</td>\n",
       "      <td>0.534293</td>\n",
       "      <td>0.531999</td>\n",
       "      <td>0.530141</td>\n",
       "      <td>0.525994</td>\n",
       "      <td>0.526979</td>\n",
       "      <td>0.528911</td>\n",
       "      <td>0.530336</td>\n",
       "      <td>10.5</td>\n",
       "      <td>0</td>\n",
       "      <td>1</td>\n",
       "    </tr>\n",
       "  </tbody>\n",
       "</table>\n",
       "<p>5 rows × 105 columns</p>\n",
       "</div>"
      ],
      "text/plain": [
       "   Serial   Age        s0        s1        s2        s3        s4        s5  \\\n",
       "0    3790  21.0  1.111572  1.089060  1.070785  1.054095  1.038819  1.022716   \n",
       "1    3801  28.0  1.094853  1.077337  1.063737  1.050125  1.036282  1.021623   \n",
       "2    3803  27.0  0.926640  0.911944  0.899565  0.887503  0.872969  0.857463   \n",
       "3    3832  27.0  0.885337  0.871370  0.855679  0.837118  0.816210  0.794550   \n",
       "4    3833  21.0  0.997230  0.980019  0.967419  0.954938  0.940028  0.922851   \n",
       "\n",
       "         s6        s7  ...       s93       s94       s95       s96       s97  \\\n",
       "0  1.010897  0.997921  ...  0.546023  0.544359  0.542551  0.537139  0.536306   \n",
       "1  1.011224  0.999654  ...  0.577882  0.576050  0.574224  0.569061  0.569617   \n",
       "2  0.846463  0.835331  ...  0.482222  0.481263  0.479601  0.475846  0.476002   \n",
       "3  0.778399  0.763338  ...  0.429914  0.428533  0.426977  0.423179  0.422927   \n",
       "4  0.910277  0.897755  ...  0.534293  0.531999  0.530141  0.525994  0.526979   \n",
       "\n",
       "        s98       s99    HB  Gender_Female  Gender_Male  \n",
       "0  0.536732  0.537626  10.5              1            0  \n",
       "1  0.571440  0.572906  13.0              0            1  \n",
       "2  0.476918  0.477353  13.3              0            1  \n",
       "3  0.423201  0.423924  10.0              1            0  \n",
       "4  0.528911  0.530336  10.5              0            1  \n",
       "\n",
       "[5 rows x 105 columns]"
      ]
     },
     "execution_count": 27,
     "metadata": {},
     "output_type": "execute_result"
    }
   ],
   "source": [
    "ga.head()"
   ]
  },
  {
   "cell_type": "code",
   "execution_count": 28,
   "id": "opposed-adrian",
   "metadata": {},
   "outputs": [
    {
     "data": {
      "text/html": [
       "<div>\n",
       "<style scoped>\n",
       "    .dataframe tbody tr th:only-of-type {\n",
       "        vertical-align: middle;\n",
       "    }\n",
       "\n",
       "    .dataframe tbody tr th {\n",
       "        vertical-align: top;\n",
       "    }\n",
       "\n",
       "    .dataframe thead th {\n",
       "        text-align: right;\n",
       "    }\n",
       "</style>\n",
       "<table border=\"1\" class=\"dataframe\">\n",
       "  <thead>\n",
       "    <tr style=\"text-align: right;\">\n",
       "      <th></th>\n",
       "      <th>Serial</th>\n",
       "      <th>Age</th>\n",
       "      <th>s0</th>\n",
       "      <th>s1</th>\n",
       "      <th>s2</th>\n",
       "      <th>s3</th>\n",
       "      <th>s4</th>\n",
       "      <th>s5</th>\n",
       "      <th>s6</th>\n",
       "      <th>s7</th>\n",
       "      <th>...</th>\n",
       "      <th>s92</th>\n",
       "      <th>s93</th>\n",
       "      <th>s94</th>\n",
       "      <th>s95</th>\n",
       "      <th>s96</th>\n",
       "      <th>s97</th>\n",
       "      <th>s98</th>\n",
       "      <th>s99</th>\n",
       "      <th>HB</th>\n",
       "      <th>Gender</th>\n",
       "    </tr>\n",
       "  </thead>\n",
       "  <tbody>\n",
       "    <tr>\n",
       "      <th>0</th>\n",
       "      <td>3790</td>\n",
       "      <td>21.0</td>\n",
       "      <td>1.111572</td>\n",
       "      <td>1.089060</td>\n",
       "      <td>1.070785</td>\n",
       "      <td>1.054095</td>\n",
       "      <td>1.038819</td>\n",
       "      <td>1.022716</td>\n",
       "      <td>1.010897</td>\n",
       "      <td>0.997921</td>\n",
       "      <td>...</td>\n",
       "      <td>0.548618</td>\n",
       "      <td>0.546023</td>\n",
       "      <td>0.544359</td>\n",
       "      <td>0.542551</td>\n",
       "      <td>0.537139</td>\n",
       "      <td>0.536306</td>\n",
       "      <td>0.536732</td>\n",
       "      <td>0.537626</td>\n",
       "      <td>10.5</td>\n",
       "      <td>1</td>\n",
       "    </tr>\n",
       "    <tr>\n",
       "      <th>1</th>\n",
       "      <td>3801</td>\n",
       "      <td>28.0</td>\n",
       "      <td>1.094853</td>\n",
       "      <td>1.077337</td>\n",
       "      <td>1.063737</td>\n",
       "      <td>1.050125</td>\n",
       "      <td>1.036282</td>\n",
       "      <td>1.021623</td>\n",
       "      <td>1.011224</td>\n",
       "      <td>0.999654</td>\n",
       "      <td>...</td>\n",
       "      <td>0.580230</td>\n",
       "      <td>0.577882</td>\n",
       "      <td>0.576050</td>\n",
       "      <td>0.574224</td>\n",
       "      <td>0.569061</td>\n",
       "      <td>0.569617</td>\n",
       "      <td>0.571440</td>\n",
       "      <td>0.572906</td>\n",
       "      <td>13.0</td>\n",
       "      <td>0</td>\n",
       "    </tr>\n",
       "    <tr>\n",
       "      <th>2</th>\n",
       "      <td>3803</td>\n",
       "      <td>27.0</td>\n",
       "      <td>0.926640</td>\n",
       "      <td>0.911944</td>\n",
       "      <td>0.899565</td>\n",
       "      <td>0.887503</td>\n",
       "      <td>0.872969</td>\n",
       "      <td>0.857463</td>\n",
       "      <td>0.846463</td>\n",
       "      <td>0.835331</td>\n",
       "      <td>...</td>\n",
       "      <td>0.483731</td>\n",
       "      <td>0.482222</td>\n",
       "      <td>0.481263</td>\n",
       "      <td>0.479601</td>\n",
       "      <td>0.475846</td>\n",
       "      <td>0.476002</td>\n",
       "      <td>0.476918</td>\n",
       "      <td>0.477353</td>\n",
       "      <td>13.3</td>\n",
       "      <td>0</td>\n",
       "    </tr>\n",
       "    <tr>\n",
       "      <th>3</th>\n",
       "      <td>3832</td>\n",
       "      <td>27.0</td>\n",
       "      <td>0.885337</td>\n",
       "      <td>0.871370</td>\n",
       "      <td>0.855679</td>\n",
       "      <td>0.837118</td>\n",
       "      <td>0.816210</td>\n",
       "      <td>0.794550</td>\n",
       "      <td>0.778399</td>\n",
       "      <td>0.763338</td>\n",
       "      <td>...</td>\n",
       "      <td>0.431123</td>\n",
       "      <td>0.429914</td>\n",
       "      <td>0.428533</td>\n",
       "      <td>0.426977</td>\n",
       "      <td>0.423179</td>\n",
       "      <td>0.422927</td>\n",
       "      <td>0.423201</td>\n",
       "      <td>0.423924</td>\n",
       "      <td>10.0</td>\n",
       "      <td>1</td>\n",
       "    </tr>\n",
       "    <tr>\n",
       "      <th>4</th>\n",
       "      <td>3833</td>\n",
       "      <td>21.0</td>\n",
       "      <td>0.997230</td>\n",
       "      <td>0.980019</td>\n",
       "      <td>0.967419</td>\n",
       "      <td>0.954938</td>\n",
       "      <td>0.940028</td>\n",
       "      <td>0.922851</td>\n",
       "      <td>0.910277</td>\n",
       "      <td>0.897755</td>\n",
       "      <td>...</td>\n",
       "      <td>0.537118</td>\n",
       "      <td>0.534293</td>\n",
       "      <td>0.531999</td>\n",
       "      <td>0.530141</td>\n",
       "      <td>0.525994</td>\n",
       "      <td>0.526979</td>\n",
       "      <td>0.528911</td>\n",
       "      <td>0.530336</td>\n",
       "      <td>10.5</td>\n",
       "      <td>0</td>\n",
       "    </tr>\n",
       "    <tr>\n",
       "      <th>...</th>\n",
       "      <td>...</td>\n",
       "      <td>...</td>\n",
       "      <td>...</td>\n",
       "      <td>...</td>\n",
       "      <td>...</td>\n",
       "      <td>...</td>\n",
       "      <td>...</td>\n",
       "      <td>...</td>\n",
       "      <td>...</td>\n",
       "      <td>...</td>\n",
       "      <td>...</td>\n",
       "      <td>...</td>\n",
       "      <td>...</td>\n",
       "      <td>...</td>\n",
       "      <td>...</td>\n",
       "      <td>...</td>\n",
       "      <td>...</td>\n",
       "      <td>...</td>\n",
       "      <td>...</td>\n",
       "      <td>...</td>\n",
       "      <td>...</td>\n",
       "    </tr>\n",
       "    <tr>\n",
       "      <th>101760</th>\n",
       "      <td>1272</td>\n",
       "      <td>60.0</td>\n",
       "      <td>0.944481</td>\n",
       "      <td>0.936851</td>\n",
       "      <td>0.933647</td>\n",
       "      <td>0.924879</td>\n",
       "      <td>0.914422</td>\n",
       "      <td>0.905567</td>\n",
       "      <td>0.898337</td>\n",
       "      <td>0.891043</td>\n",
       "      <td>...</td>\n",
       "      <td>0.505947</td>\n",
       "      <td>0.502221</td>\n",
       "      <td>0.499196</td>\n",
       "      <td>0.495792</td>\n",
       "      <td>0.492888</td>\n",
       "      <td>0.489912</td>\n",
       "      <td>0.487988</td>\n",
       "      <td>0.486480</td>\n",
       "      <td>12.0</td>\n",
       "      <td>1</td>\n",
       "    </tr>\n",
       "    <tr>\n",
       "      <th>101761</th>\n",
       "      <td>1272</td>\n",
       "      <td>60.0</td>\n",
       "      <td>0.953750</td>\n",
       "      <td>0.943192</td>\n",
       "      <td>0.938576</td>\n",
       "      <td>0.930557</td>\n",
       "      <td>0.920534</td>\n",
       "      <td>0.911944</td>\n",
       "      <td>0.905013</td>\n",
       "      <td>0.897771</td>\n",
       "      <td>...</td>\n",
       "      <td>0.508857</td>\n",
       "      <td>0.505084</td>\n",
       "      <td>0.503612</td>\n",
       "      <td>0.501019</td>\n",
       "      <td>0.498227</td>\n",
       "      <td>0.494874</td>\n",
       "      <td>0.491237</td>\n",
       "      <td>0.489598</td>\n",
       "      <td>12.0</td>\n",
       "      <td>1</td>\n",
       "    </tr>\n",
       "    <tr>\n",
       "      <th>101762</th>\n",
       "      <td>1272</td>\n",
       "      <td>60.0</td>\n",
       "      <td>0.950452</td>\n",
       "      <td>0.941978</td>\n",
       "      <td>0.936802</td>\n",
       "      <td>0.927402</td>\n",
       "      <td>0.917317</td>\n",
       "      <td>0.908880</td>\n",
       "      <td>0.901772</td>\n",
       "      <td>0.894222</td>\n",
       "      <td>...</td>\n",
       "      <td>0.506535</td>\n",
       "      <td>0.502254</td>\n",
       "      <td>0.500789</td>\n",
       "      <td>0.498837</td>\n",
       "      <td>0.496110</td>\n",
       "      <td>0.491385</td>\n",
       "      <td>0.488431</td>\n",
       "      <td>0.487415</td>\n",
       "      <td>12.0</td>\n",
       "      <td>1</td>\n",
       "    </tr>\n",
       "    <tr>\n",
       "      <th>101763</th>\n",
       "      <td>1272</td>\n",
       "      <td>60.0</td>\n",
       "      <td>0.955741</td>\n",
       "      <td>0.946137</td>\n",
       "      <td>0.941490</td>\n",
       "      <td>0.932453</td>\n",
       "      <td>0.921778</td>\n",
       "      <td>0.912469</td>\n",
       "      <td>0.905354</td>\n",
       "      <td>0.898180</td>\n",
       "      <td>...</td>\n",
       "      <td>0.511350</td>\n",
       "      <td>0.507332</td>\n",
       "      <td>0.504680</td>\n",
       "      <td>0.502769</td>\n",
       "      <td>0.500643</td>\n",
       "      <td>0.497776</td>\n",
       "      <td>0.492578</td>\n",
       "      <td>0.489961</td>\n",
       "      <td>12.0</td>\n",
       "      <td>1</td>\n",
       "    </tr>\n",
       "    <tr>\n",
       "      <th>101764</th>\n",
       "      <td>1272</td>\n",
       "      <td>60.0</td>\n",
       "      <td>0.944227</td>\n",
       "      <td>0.934036</td>\n",
       "      <td>0.928997</td>\n",
       "      <td>0.919935</td>\n",
       "      <td>0.910448</td>\n",
       "      <td>0.902342</td>\n",
       "      <td>0.895175</td>\n",
       "      <td>0.887635</td>\n",
       "      <td>...</td>\n",
       "      <td>0.502450</td>\n",
       "      <td>0.497549</td>\n",
       "      <td>0.495236</td>\n",
       "      <td>0.492834</td>\n",
       "      <td>0.490676</td>\n",
       "      <td>0.487559</td>\n",
       "      <td>0.484320</td>\n",
       "      <td>0.481806</td>\n",
       "      <td>12.0</td>\n",
       "      <td>1</td>\n",
       "    </tr>\n",
       "  </tbody>\n",
       "</table>\n",
       "<p>100833 rows × 104 columns</p>\n",
       "</div>"
      ],
      "text/plain": [
       "        Serial   Age        s0        s1        s2        s3        s4  \\\n",
       "0         3790  21.0  1.111572  1.089060  1.070785  1.054095  1.038819   \n",
       "1         3801  28.0  1.094853  1.077337  1.063737  1.050125  1.036282   \n",
       "2         3803  27.0  0.926640  0.911944  0.899565  0.887503  0.872969   \n",
       "3         3832  27.0  0.885337  0.871370  0.855679  0.837118  0.816210   \n",
       "4         3833  21.0  0.997230  0.980019  0.967419  0.954938  0.940028   \n",
       "...        ...   ...       ...       ...       ...       ...       ...   \n",
       "101760    1272  60.0  0.944481  0.936851  0.933647  0.924879  0.914422   \n",
       "101761    1272  60.0  0.953750  0.943192  0.938576  0.930557  0.920534   \n",
       "101762    1272  60.0  0.950452  0.941978  0.936802  0.927402  0.917317   \n",
       "101763    1272  60.0  0.955741  0.946137  0.941490  0.932453  0.921778   \n",
       "101764    1272  60.0  0.944227  0.934036  0.928997  0.919935  0.910448   \n",
       "\n",
       "              s5        s6        s7  ...       s92       s93       s94  \\\n",
       "0       1.022716  1.010897  0.997921  ...  0.548618  0.546023  0.544359   \n",
       "1       1.021623  1.011224  0.999654  ...  0.580230  0.577882  0.576050   \n",
       "2       0.857463  0.846463  0.835331  ...  0.483731  0.482222  0.481263   \n",
       "3       0.794550  0.778399  0.763338  ...  0.431123  0.429914  0.428533   \n",
       "4       0.922851  0.910277  0.897755  ...  0.537118  0.534293  0.531999   \n",
       "...          ...       ...       ...  ...       ...       ...       ...   \n",
       "101760  0.905567  0.898337  0.891043  ...  0.505947  0.502221  0.499196   \n",
       "101761  0.911944  0.905013  0.897771  ...  0.508857  0.505084  0.503612   \n",
       "101762  0.908880  0.901772  0.894222  ...  0.506535  0.502254  0.500789   \n",
       "101763  0.912469  0.905354  0.898180  ...  0.511350  0.507332  0.504680   \n",
       "101764  0.902342  0.895175  0.887635  ...  0.502450  0.497549  0.495236   \n",
       "\n",
       "             s95       s96       s97       s98       s99    HB  Gender  \n",
       "0       0.542551  0.537139  0.536306  0.536732  0.537626  10.5       1  \n",
       "1       0.574224  0.569061  0.569617  0.571440  0.572906  13.0       0  \n",
       "2       0.479601  0.475846  0.476002  0.476918  0.477353  13.3       0  \n",
       "3       0.426977  0.423179  0.422927  0.423201  0.423924  10.0       1  \n",
       "4       0.530141  0.525994  0.526979  0.528911  0.530336  10.5       0  \n",
       "...          ...       ...       ...       ...       ...   ...     ...  \n",
       "101760  0.495792  0.492888  0.489912  0.487988  0.486480  12.0       1  \n",
       "101761  0.501019  0.498227  0.494874  0.491237  0.489598  12.0       1  \n",
       "101762  0.498837  0.496110  0.491385  0.488431  0.487415  12.0       1  \n",
       "101763  0.502769  0.500643  0.497776  0.492578  0.489961  12.0       1  \n",
       "101764  0.492834  0.490676  0.487559  0.484320  0.481806  12.0       1  \n",
       "\n",
       "[100833 rows x 104 columns]"
      ]
     },
     "execution_count": 28,
     "metadata": {},
     "output_type": "execute_result"
    }
   ],
   "source": [
    "#Female == 1\n",
    "ga1 = ga.drop('Gender_Male' , axis = 1)\n",
    "ga1.head()\n",
    "ga1.rename({'Gender_Female':\"Gender\"} , axis = 1)"
   ]
  },
  {
   "cell_type": "code",
   "execution_count": 47,
   "id": "seven-going",
   "metadata": {},
   "outputs": [
    {
     "data": {
      "text/plain": [
       "<AxesSubplot:>"
      ]
     },
     "execution_count": 47,
     "metadata": {},
     "output_type": "execute_result"
    },
    {
     "data": {
      "image/png": "[encoded data removed]",
      "text/plain": [
       "<Figure size 432x288 with 2 Axes>"
      ]
     },
     "metadata": {
      "needs_background": "light"
     },
     "output_type": "display_data"
    }
   ],
   "source": [
    "corr_df = ga1.corr()\n",
    "sns.heatmap(corr_df)"
   ]
  },
  {
   "cell_type": "code",
   "execution_count": 32,
   "id": "separated-bread",
   "metadata": {},
   "outputs": [],
   "source": [
    "X_ga = ga1.drop(['Serial','HB'] , axis = 1)\n",
    "y_ga = ga1['HB']"
   ]
  },
  {
   "cell_type": "code",
   "execution_count": 33,
   "id": "literary-slave",
   "metadata": {},
   "outputs": [],
   "source": [
    "scale_ga = sc.fit_transform(X_ga)\n",
    "pca_ga = pca.fit_transform(scale_ga)"
   ]
  },
  {
   "cell_type": "code",
   "execution_count": 34,
   "id": "widespread-environment",
   "metadata": {},
   "outputs": [],
   "source": [
    "pca_df_ga = pd.DataFrame(pca_ga , columns = ['PC1','PC2','PC3','PC4','PC5','PC6','PC7','PC8','PC9','PC10'])\n",
    "pca_df_ga['HB'] = y_ga"
   ]
  },
  {
   "cell_type": "code",
   "execution_count": 35,
   "id": "third-month",
   "metadata": {},
   "outputs": [
    {
     "data": {
      "image/png": "[encoded data removed]",
      "text/plain": [
       "<Figure size 432x288 with 1 Axes>"
      ]
     },
     "metadata": {
      "needs_background": "light"
     },
     "output_type": "display_data"
    }
   ],
   "source": [
    "PC_values = np.arange(pca.n_components_) + 1\n",
    "plt.plot(PC_values, pca.explained_variance_ratio_, 'o-', linewidth=2, color='blue')\n",
    "plt.title('Scree Plot')\n",
    "plt.xlabel('Principal Component')\n",
    "plt.ylabel('Variance Explained')\n",
    "plt.show()"
   ]
  },
  {
   "cell_type": "code",
   "execution_count": 36,
   "id": "sound-money",
   "metadata": {},
   "outputs": [
    {
     "data": {
      "text/plain": [
       "0.9994987429560384"
      ]
     },
     "execution_count": 36,
     "metadata": {},
     "output_type": "execute_result"
    }
   ],
   "source": [
    "sum(pca.explained_variance_ratio_)"
   ]
  },
  {
   "cell_type": "code",
   "execution_count": 37,
   "id": "adjusted-month",
   "metadata": {},
   "outputs": [],
   "source": [
    "pca_df_ga1 = pca_df_ga.dropna()\n",
    "x_ga = pca_df_ga1.drop('HB',axis = 1)\n",
    "Y_ga = pca_df_ga1['HB']"
   ]
  },
  {
   "cell_type": "markdown",
   "id": "economic-steel",
   "metadata": {},
   "source": [
    "#### Linear Regression"
   ]
  },
  {
   "cell_type": "code",
   "execution_count": 38,
   "id": "finnish-activity",
   "metadata": {},
   "outputs": [
    {
     "name": "stdout",
     "output_type": "stream",
     "text": [
      "Adjusted R-square is 0.04169528430298597\n"
     ]
    }
   ],
   "source": [
    "X_tra,X_tes,y_tra,y_tes = train_test_split(x_ga,Y_ga,test_size = 0.2 , random_state = 0)\n",
    "lr.fit(X_tra,y_tra)\n",
    "score_lr_ga = lr.score(X_tes,y_tes)\n",
    "score_lr_ga\n",
    "radj_lr = 1 - (1-lr.score(X_tes, y_tes))*(len(y_tes)-1)/(len(y_tes)-X_tes.shape[1]-1)\n",
    "print('Adjusted R-square is ' +  str(radj_lr))"
   ]
  },
  {
   "cell_type": "code",
   "execution_count": 39,
   "id": "plain-burlington",
   "metadata": {},
   "outputs": [
    {
     "data": {
      "text/plain": [
       "-0.005813904563486405"
      ]
     },
     "execution_count": 39,
     "metadata": {},
     "output_type": "execute_result"
    }
   ],
   "source": [
    "cv_score_lr = cross_val_score(lr,x_ga,Y_ga, cv=5, scoring = 'r2')\n",
    "max(cv_score_lr)"
   ]
  },
  {
   "cell_type": "markdown",
   "id": "appreciated-clothing",
   "metadata": {},
   "source": [
    "#### Random Forest"
   ]
  },
  {
   "cell_type": "code",
   "execution_count": 75,
   "id": "conditional-lender",
   "metadata": {},
   "outputs": [
    {
     "name": "stdout",
     "output_type": "stream",
     "text": [
      "Adjusted R-square is 0.8293058624296733\n"
     ]
    }
   ],
   "source": [
    "rf.fit(X_tra,y_tra)\n",
    "score_rf_ga = rf.score(X_tes,y_tes)\n",
    "score_rf_ga\n",
    "radj_rf = 1 - (1-rf.score(X_tes, y_tes))*(len(y_tes)-1)/(len(y_tes)-X_tes.shape[1]-1)\n",
    "print('Adjusted R-square is ' +  str(radj_rf))"
   ]
  },
  {
   "cell_type": "code",
   "execution_count": 40,
   "id": "grave-shooting",
   "metadata": {},
   "outputs": [
    {
     "data": {
      "text/plain": [
       "0.8158317327784781"
      ]
     },
     "execution_count": 40,
     "metadata": {},
     "output_type": "execute_result"
    }
   ],
   "source": [
    "cv_score_rf = cross_val_score(rf,X_tra,y_tra, cv=5, scoring = 'r2')\n",
    "max(cv_score_rf)"
   ]
  },
  {
   "cell_type": "markdown",
   "id": "hearing-tourist",
   "metadata": {},
   "source": [
    "#### Support Vector Machine"
   ]
  },
  {
   "cell_type": "code",
   "execution_count": 41,
   "id": "otherwise-custom",
   "metadata": {},
   "outputs": [
    {
     "name": "stdout",
     "output_type": "stream",
     "text": [
      "0.11447201784885253\n"
     ]
    }
   ],
   "source": [
    "regressor.fit(X_tra, y_tra)\n",
    "score_svr_ga = regressor.score(X_tes,y_tes)\n",
    "print(score_svr_ga)"
   ]
  },
  {
   "cell_type": "markdown",
   "id": "engaged-process",
   "metadata": {},
   "source": [
    "#### XGBoost"
   ]
  },
  {
   "cell_type": "code",
   "execution_count": 45,
   "id": "insured-mozambique",
   "metadata": {},
   "outputs": [],
   "source": [
    "RegModel.fit(X_tra,y_tra)\n",
    "score_xgb_ga = RegModel.score(X_tes,y_tes)"
   ]
  },
  {
   "cell_type": "code",
   "execution_count": 46,
   "id": "angry-substitute",
   "metadata": {},
   "outputs": [
    {
     "data": {
      "text/plain": [
       "0.3908771786598876"
      ]
     },
     "execution_count": 46,
     "metadata": {},
     "output_type": "execute_result"
    }
   ],
   "source": [
    "score_xgb_ga"
   ]
  },
  {
   "cell_type": "code",
   "execution_count": null,
   "id": "chicken-karaoke",
   "metadata": {},
   "outputs": [],
   "source": []
  }
 ],
 "metadata": {
  "kernelspec": {
   "display_name": "Python 3",
   "language": "python",
   "name": "python3"
  },
  "language_info": {
   "codemirror_mode": {
    "name": "ipython",
    "version": 3
   },
   "file_extension": ".py",
   "mimetype": "text/x-python",
   "name": "python",
   "nbconvert_exporter": "python",
   "pygments_lexer": "ipython3",
   "version": "3.7.4"
  }
 },
 "nbformat": 4,
 "nbformat_minor": 5
}
